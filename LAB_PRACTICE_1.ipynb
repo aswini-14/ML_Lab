{
 "cells": [
  {
   "cell_type": "code",
   "execution_count": 13,
   "id": "074d1242-88f4-4122-a9cc-1e8d02d65eb9",
   "metadata": {},
   "outputs": [
    {
     "name": "stdout",
     "output_type": "stream",
     "text": [
      "   CustomerID     Name   Age         City\n",
      "0           1    Alice  25.0     New York\n",
      "1           2      Bob  30.0  Los Angeles\n",
      "2           3  Charlie  35.0          NaN\n",
      "3           4    David   NaN      Chicago\n",
      "4           5      Eve  45.0      Houston\n"
     ]
    }
   ],
   "source": [
    "import pandas as pd\n",
    "df = pd.read_csv(\"customers.csv\")\n",
    "print(df)"
   ]
  },
  {
   "cell_type": "code",
   "execution_count": 15,
   "id": "61b28293-d956-4a84-bcb8-5f7031223a1c",
   "metadata": {},
   "outputs": [
    {
     "data": {
      "text/html": [
       "<div>\n",
       "<style scoped>\n",
       "    .dataframe tbody tr th:only-of-type {\n",
       "        vertical-align: middle;\n",
       "    }\n",
       "\n",
       "    .dataframe tbody tr th {\n",
       "        vertical-align: top;\n",
       "    }\n",
       "\n",
       "    .dataframe thead th {\n",
       "        text-align: right;\n",
       "    }\n",
       "</style>\n",
       "<table border=\"1\" class=\"dataframe\">\n",
       "  <thead>\n",
       "    <tr style=\"text-align: right;\">\n",
       "      <th></th>\n",
       "      <th>CustomerID</th>\n",
       "      <th>Name</th>\n",
       "      <th>Age</th>\n",
       "      <th>City</th>\n",
       "    </tr>\n",
       "  </thead>\n",
       "  <tbody>\n",
       "    <tr>\n",
       "      <th>0</th>\n",
       "      <td>False</td>\n",
       "      <td>False</td>\n",
       "      <td>False</td>\n",
       "      <td>False</td>\n",
       "    </tr>\n",
       "    <tr>\n",
       "      <th>1</th>\n",
       "      <td>False</td>\n",
       "      <td>False</td>\n",
       "      <td>False</td>\n",
       "      <td>False</td>\n",
       "    </tr>\n",
       "    <tr>\n",
       "      <th>2</th>\n",
       "      <td>False</td>\n",
       "      <td>False</td>\n",
       "      <td>False</td>\n",
       "      <td>True</td>\n",
       "    </tr>\n",
       "    <tr>\n",
       "      <th>3</th>\n",
       "      <td>False</td>\n",
       "      <td>False</td>\n",
       "      <td>True</td>\n",
       "      <td>False</td>\n",
       "    </tr>\n",
       "    <tr>\n",
       "      <th>4</th>\n",
       "      <td>False</td>\n",
       "      <td>False</td>\n",
       "      <td>False</td>\n",
       "      <td>False</td>\n",
       "    </tr>\n",
       "  </tbody>\n",
       "</table>\n",
       "</div>"
      ],
      "text/plain": [
       "   CustomerID   Name    Age   City\n",
       "0       False  False  False  False\n",
       "1       False  False  False  False\n",
       "2       False  False  False   True\n",
       "3       False  False   True  False\n",
       "4       False  False  False  False"
      ]
     },
     "execution_count": 15,
     "metadata": {},
     "output_type": "execute_result"
    }
   ],
   "source": [
    "df.isnull()"
   ]
  },
  {
   "cell_type": "code",
   "execution_count": 21,
   "id": "6cf3037c-7792-43af-b525-c8299afa2384",
   "metadata": {},
   "outputs": [
    {
     "data": {
      "text/html": [
       "<div>\n",
       "<style scoped>\n",
       "    .dataframe tbody tr th:only-of-type {\n",
       "        vertical-align: middle;\n",
       "    }\n",
       "\n",
       "    .dataframe tbody tr th {\n",
       "        vertical-align: top;\n",
       "    }\n",
       "\n",
       "    .dataframe thead th {\n",
       "        text-align: right;\n",
       "    }\n",
       "</style>\n",
       "<table border=\"1\" class=\"dataframe\">\n",
       "  <thead>\n",
       "    <tr style=\"text-align: right;\">\n",
       "      <th></th>\n",
       "      <th>CustomerID</th>\n",
       "      <th>Name</th>\n",
       "      <th>Age</th>\n",
       "      <th>City</th>\n",
       "    </tr>\n",
       "  </thead>\n",
       "  <tbody>\n",
       "    <tr>\n",
       "      <th>0</th>\n",
       "      <td>1</td>\n",
       "      <td>Alice</td>\n",
       "      <td>25.0</td>\n",
       "      <td>New York</td>\n",
       "    </tr>\n",
       "    <tr>\n",
       "      <th>1</th>\n",
       "      <td>2</td>\n",
       "      <td>Bob</td>\n",
       "      <td>30.0</td>\n",
       "      <td>Los Angeles</td>\n",
       "    </tr>\n",
       "    <tr>\n",
       "      <th>2</th>\n",
       "      <td>3</td>\n",
       "      <td>Charlie</td>\n",
       "      <td>35.0</td>\n",
       "      <td>0</td>\n",
       "    </tr>\n",
       "    <tr>\n",
       "      <th>3</th>\n",
       "      <td>4</td>\n",
       "      <td>David</td>\n",
       "      <td>0.0</td>\n",
       "      <td>Chicago</td>\n",
       "    </tr>\n",
       "    <tr>\n",
       "      <th>4</th>\n",
       "      <td>5</td>\n",
       "      <td>Eve</td>\n",
       "      <td>45.0</td>\n",
       "      <td>Houston</td>\n",
       "    </tr>\n",
       "  </tbody>\n",
       "</table>\n",
       "</div>"
      ],
      "text/plain": [
       "   CustomerID     Name   Age         City\n",
       "0           1    Alice  25.0     New York\n",
       "1           2      Bob  30.0  Los Angeles\n",
       "2           3  Charlie  35.0            0\n",
       "3           4    David   0.0      Chicago\n",
       "4           5      Eve  45.0      Houston"
      ]
     },
     "execution_count": 21,
     "metadata": {},
     "output_type": "execute_result"
    }
   ],
   "source": [
    "new_df = df.fillna(0)\n",
    "new_df"
   ]
  },
  {
   "cell_type": "code",
   "execution_count": 33,
   "id": "f8beb7bf-0208-4a26-afd9-7516a76e09d9",
   "metadata": {},
   "outputs": [
    {
     "data": {
      "text/html": [
       "<div>\n",
       "<style scoped>\n",
       "    .dataframe tbody tr th:only-of-type {\n",
       "        vertical-align: middle;\n",
       "    }\n",
       "\n",
       "    .dataframe tbody tr th {\n",
       "        vertical-align: top;\n",
       "    }\n",
       "\n",
       "    .dataframe thead th {\n",
       "        text-align: right;\n",
       "    }\n",
       "</style>\n",
       "<table border=\"1\" class=\"dataframe\">\n",
       "  <thead>\n",
       "    <tr style=\"text-align: right;\">\n",
       "      <th></th>\n",
       "      <th>CustomerID</th>\n",
       "      <th>Name</th>\n",
       "      <th>Age</th>\n",
       "      <th>City</th>\n",
       "    </tr>\n",
       "  </thead>\n",
       "  <tbody>\n",
       "    <tr>\n",
       "      <th>0</th>\n",
       "      <td>1</td>\n",
       "      <td>Alice</td>\n",
       "      <td>25.00</td>\n",
       "      <td>New York</td>\n",
       "    </tr>\n",
       "    <tr>\n",
       "      <th>1</th>\n",
       "      <td>2</td>\n",
       "      <td>Bob</td>\n",
       "      <td>30.00</td>\n",
       "      <td>Los Angeles</td>\n",
       "    </tr>\n",
       "    <tr>\n",
       "      <th>2</th>\n",
       "      <td>3</td>\n",
       "      <td>Charlie</td>\n",
       "      <td>35.00</td>\n",
       "      <td>NaN</td>\n",
       "    </tr>\n",
       "    <tr>\n",
       "      <th>3</th>\n",
       "      <td>4</td>\n",
       "      <td>David</td>\n",
       "      <td>33.75</td>\n",
       "      <td>Chicago</td>\n",
       "    </tr>\n",
       "    <tr>\n",
       "      <th>4</th>\n",
       "      <td>5</td>\n",
       "      <td>Eve</td>\n",
       "      <td>45.00</td>\n",
       "      <td>Houston</td>\n",
       "    </tr>\n",
       "  </tbody>\n",
       "</table>\n",
       "</div>"
      ],
      "text/plain": [
       "   CustomerID     Name    Age         City\n",
       "0           1    Alice  25.00     New York\n",
       "1           2      Bob  30.00  Los Angeles\n",
       "2           3  Charlie  35.00          NaN\n",
       "3           4    David  33.75      Chicago\n",
       "4           5      Eve  45.00      Houston"
      ]
     },
     "execution_count": 33,
     "metadata": {},
     "output_type": "execute_result"
    }
   ],
   "source": [
    "df = df.fillna(df.mean(numeric_only = True))\n",
    "df\n"
   ]
  },
  {
   "cell_type": "code",
   "execution_count": 37,
   "id": "7e6c9994-7ed7-4e12-9032-f41ecc51270e",
   "metadata": {},
   "outputs": [
    {
     "data": {
      "text/html": [
       "<div>\n",
       "<style scoped>\n",
       "    .dataframe tbody tr th:only-of-type {\n",
       "        vertical-align: middle;\n",
       "    }\n",
       "\n",
       "    .dataframe tbody tr th {\n",
       "        vertical-align: top;\n",
       "    }\n",
       "\n",
       "    .dataframe thead th {\n",
       "        text-align: right;\n",
       "    }\n",
       "</style>\n",
       "<table border=\"1\" class=\"dataframe\">\n",
       "  <thead>\n",
       "    <tr style=\"text-align: right;\">\n",
       "      <th></th>\n",
       "      <th>CustomerID</th>\n",
       "      <th>Name</th>\n",
       "      <th>Age</th>\n",
       "      <th>City</th>\n",
       "    </tr>\n",
       "  </thead>\n",
       "  <tbody>\n",
       "    <tr>\n",
       "      <th>0</th>\n",
       "      <td>1</td>\n",
       "      <td>Alice</td>\n",
       "      <td>25.00</td>\n",
       "      <td>New York</td>\n",
       "    </tr>\n",
       "    <tr>\n",
       "      <th>1</th>\n",
       "      <td>2</td>\n",
       "      <td>Bob</td>\n",
       "      <td>30.00</td>\n",
       "      <td>Los Angeles</td>\n",
       "    </tr>\n",
       "    <tr>\n",
       "      <th>2</th>\n",
       "      <td>3</td>\n",
       "      <td>Charlie</td>\n",
       "      <td>35.00</td>\n",
       "      <td>Los Angeles</td>\n",
       "    </tr>\n",
       "    <tr>\n",
       "      <th>3</th>\n",
       "      <td>4</td>\n",
       "      <td>David</td>\n",
       "      <td>33.75</td>\n",
       "      <td>Chicago</td>\n",
       "    </tr>\n",
       "    <tr>\n",
       "      <th>4</th>\n",
       "      <td>5</td>\n",
       "      <td>Eve</td>\n",
       "      <td>45.00</td>\n",
       "      <td>Houston</td>\n",
       "    </tr>\n",
       "  </tbody>\n",
       "</table>\n",
       "</div>"
      ],
      "text/plain": [
       "   CustomerID     Name    Age         City\n",
       "0           1    Alice  25.00     New York\n",
       "1           2      Bob  30.00  Los Angeles\n",
       "2           3  Charlie  35.00  Los Angeles\n",
       "3           4    David  33.75      Chicago\n",
       "4           5      Eve  45.00      Houston"
      ]
     },
     "execution_count": 37,
     "metadata": {},
     "output_type": "execute_result"
    }
   ],
   "source": [
    "df = df.fillna(df.mode())\n",
    "df"
   ]
  },
  {
   "cell_type": "code",
   "execution_count": 39,
   "id": "9de43b51-fd0e-4a20-913b-1e8d435dc2a0",
   "metadata": {},
   "outputs": [
    {
     "name": "stdout",
     "output_type": "stream",
     "text": [
      "0      Alice\n",
      "1        Bob\n",
      "2    Charlie\n",
      "3      David\n",
      "4        Eve\n",
      "Name: Name, dtype: object\n"
     ]
    }
   ],
   "source": [
    "print(df['Name'])"
   ]
  },
  {
   "cell_type": "code",
   "execution_count": 41,
   "id": "529c85e4-be59-4e70-8c0f-a765017e8126",
   "metadata": {},
   "outputs": [
    {
     "name": "stdout",
     "output_type": "stream",
     "text": [
      "CustomerID           1\n",
      "Name             Alice\n",
      "Age               25.0\n",
      "City          New York\n",
      "Name: 0, dtype: object\n"
     ]
    }
   ],
   "source": [
    "print(df.loc[0])"
   ]
  },
  {
   "cell_type": "code",
   "execution_count": 53,
   "id": "27d60143-0488-4cb4-b552-0e740bdfaf85",
   "metadata": {},
   "outputs": [
    {
     "name": "stdout",
     "output_type": "stream",
     "text": [
      "       CustomerID     Name         City\n",
      "Age                                    \n",
      "25.00           1    Alice     New York\n",
      "30.00           2      Bob  Los Angeles\n",
      "33.75           4    David      Chicago\n",
      "35.00           3  Charlie  Los Angeles\n",
      "45.00           5      Eve      Houston\n",
      "   CustomerID     Name    Age         City\n",
      "0           1    Alice  25.00     New York\n",
      "1           2      Bob  30.00  Los Angeles\n",
      "2           3  Charlie  35.00  Los Angeles\n",
      "3           4    David  33.75      Chicago\n",
      "4           5      Eve  45.00      Houston\n"
     ]
    }
   ],
   "source": [
    "print(df.groupby('Age').sum())\n",
    "print(df)"
   ]
  },
  {
   "cell_type": "code",
   "execution_count": 56,
   "id": "254e3fa0-bd98-4b54-b73b-0c3b2570f926",
   "metadata": {},
   "outputs": [
    {
     "data": {
      "text/html": [
       "<div>\n",
       "<style scoped>\n",
       "    .dataframe tbody tr th:only-of-type {\n",
       "        vertical-align: middle;\n",
       "    }\n",
       "\n",
       "    .dataframe tbody tr th {\n",
       "        vertical-align: top;\n",
       "    }\n",
       "\n",
       "    .dataframe thead th {\n",
       "        text-align: right;\n",
       "    }\n",
       "</style>\n",
       "<table border=\"1\" class=\"dataframe\">\n",
       "  <thead>\n",
       "    <tr style=\"text-align: right;\">\n",
       "      <th></th>\n",
       "      <th>CustomerID</th>\n",
       "      <th>Age</th>\n",
       "    </tr>\n",
       "  </thead>\n",
       "  <tbody>\n",
       "    <tr>\n",
       "      <th>count</th>\n",
       "      <td>5.000000</td>\n",
       "      <td>5.0000</td>\n",
       "    </tr>\n",
       "    <tr>\n",
       "      <th>mean</th>\n",
       "      <td>3.000000</td>\n",
       "      <td>33.7500</td>\n",
       "    </tr>\n",
       "    <tr>\n",
       "      <th>std</th>\n",
       "      <td>1.581139</td>\n",
       "      <td>7.3951</td>\n",
       "    </tr>\n",
       "    <tr>\n",
       "      <th>min</th>\n",
       "      <td>1.000000</td>\n",
       "      <td>25.0000</td>\n",
       "    </tr>\n",
       "    <tr>\n",
       "      <th>25%</th>\n",
       "      <td>2.000000</td>\n",
       "      <td>30.0000</td>\n",
       "    </tr>\n",
       "    <tr>\n",
       "      <th>50%</th>\n",
       "      <td>3.000000</td>\n",
       "      <td>33.7500</td>\n",
       "    </tr>\n",
       "    <tr>\n",
       "      <th>75%</th>\n",
       "      <td>4.000000</td>\n",
       "      <td>35.0000</td>\n",
       "    </tr>\n",
       "    <tr>\n",
       "      <th>max</th>\n",
       "      <td>5.000000</td>\n",
       "      <td>45.0000</td>\n",
       "    </tr>\n",
       "  </tbody>\n",
       "</table>\n",
       "</div>"
      ],
      "text/plain": [
       "       CustomerID      Age\n",
       "count    5.000000   5.0000\n",
       "mean     3.000000  33.7500\n",
       "std      1.581139   7.3951\n",
       "min      1.000000  25.0000\n",
       "25%      2.000000  30.0000\n",
       "50%      3.000000  33.7500\n",
       "75%      4.000000  35.0000\n",
       "max      5.000000  45.0000"
      ]
     },
     "execution_count": 56,
     "metadata": {},
     "output_type": "execute_result"
    }
   ],
   "source": [
    "df.describe()\n"
   ]
  },
  {
   "cell_type": "code",
   "execution_count": 58,
   "id": "4e986211-fb83-4b9f-864d-9257820236e2",
   "metadata": {},
   "outputs": [
    {
     "name": "stdout",
     "output_type": "stream",
     "text": [
      "<class 'pandas.core.frame.DataFrame'>\n",
      "RangeIndex: 5 entries, 0 to 4\n",
      "Data columns (total 4 columns):\n",
      " #   Column      Non-Null Count  Dtype  \n",
      "---  ------      --------------  -----  \n",
      " 0   CustomerID  5 non-null      int64  \n",
      " 1   Name        5 non-null      object \n",
      " 2   Age         5 non-null      float64\n",
      " 3   City        5 non-null      object \n",
      "dtypes: float64(1), int64(1), object(2)\n",
      "memory usage: 292.0+ bytes\n"
     ]
    }
   ],
   "source": [
    "df.info()"
   ]
  },
  {
   "cell_type": "code",
   "execution_count": 60,
   "id": "7d485481-b543-4c5c-bad8-19f3a52b954a",
   "metadata": {},
   "outputs": [
    {
     "name": "stdout",
     "output_type": "stream",
     "text": [
      "CustomerID           1\n",
      "Name             Alice\n",
      "Age               25.0\n",
      "City          New York\n",
      "Name: 0, dtype: object\n"
     ]
    }
   ],
   "source": [
    "print(df.loc[0])"
   ]
  },
  {
   "cell_type": "code",
   "execution_count": 66,
   "id": "0e4fa9a6-a96e-416e-96b8-176a9ee72a5a",
   "metadata": {},
   "outputs": [
    {
     "data": {
      "text/html": [
       "<div>\n",
       "<style scoped>\n",
       "    .dataframe tbody tr th:only-of-type {\n",
       "        vertical-align: middle;\n",
       "    }\n",
       "\n",
       "    .dataframe tbody tr th {\n",
       "        vertical-align: top;\n",
       "    }\n",
       "\n",
       "    .dataframe thead th {\n",
       "        text-align: right;\n",
       "    }\n",
       "</style>\n",
       "<table border=\"1\" class=\"dataframe\">\n",
       "  <thead>\n",
       "    <tr style=\"text-align: right;\">\n",
       "      <th></th>\n",
       "      <th>CustomerID</th>\n",
       "      <th>Name</th>\n",
       "      <th>Age</th>\n",
       "      <th>City</th>\n",
       "    </tr>\n",
       "  </thead>\n",
       "  <tbody>\n",
       "    <tr>\n",
       "      <th>0</th>\n",
       "      <td>1</td>\n",
       "      <td>Alice</td>\n",
       "      <td>25.00</td>\n",
       "      <td>New York</td>\n",
       "    </tr>\n",
       "    <tr>\n",
       "      <th>1</th>\n",
       "      <td>2</td>\n",
       "      <td>Bob</td>\n",
       "      <td>30.00</td>\n",
       "      <td>Los Angeles</td>\n",
       "    </tr>\n",
       "    <tr>\n",
       "      <th>2</th>\n",
       "      <td>3</td>\n",
       "      <td>Charlie</td>\n",
       "      <td>35.00</td>\n",
       "      <td>Los Angeles</td>\n",
       "    </tr>\n",
       "    <tr>\n",
       "      <th>3</th>\n",
       "      <td>4</td>\n",
       "      <td>David</td>\n",
       "      <td>33.75</td>\n",
       "      <td>Chicago</td>\n",
       "    </tr>\n",
       "    <tr>\n",
       "      <th>4</th>\n",
       "      <td>5</td>\n",
       "      <td>Eve</td>\n",
       "      <td>45.00</td>\n",
       "      <td>Houston</td>\n",
       "    </tr>\n",
       "  </tbody>\n",
       "</table>\n",
       "</div>"
      ],
      "text/plain": [
       "   CustomerID     Name    Age         City\n",
       "0           1    Alice  25.00     New York\n",
       "1           2      Bob  30.00  Los Angeles\n",
       "2           3  Charlie  35.00  Los Angeles\n",
       "3           4    David  33.75      Chicago\n",
       "4           5      Eve  45.00      Houston"
      ]
     },
     "execution_count": 66,
     "metadata": {},
     "output_type": "execute_result"
    }
   ],
   "source": [
    "df.drop_duplicates()\n"
   ]
  },
  {
   "cell_type": "code",
   "execution_count": 72,
   "id": "8036e798-9816-4eeb-bef2-b73796dc33dd",
   "metadata": {},
   "outputs": [
    {
     "name": "stdout",
     "output_type": "stream",
     "text": [
      "   OrderID  CustomerID  Amount   OrderDate\n",
      "0      101         1.0  250.50  2024-12-20\n",
      "1      102         2.0  120.00  2024-12-21\n",
      "2      103         3.0  320.00  2024-12-22\n",
      "3      104         4.0     NaN  2024-12-23\n",
      "4      105         NaN  150.75  2024-12-24\n"
     ]
    }
   ],
   "source": [
    "import pandas as pd\n",
    "df1 = pd.read_csv(\"orders.csv\")\n",
    "print(df1)"
   ]
  },
  {
   "cell_type": "code",
   "execution_count": 78,
   "id": "27c94186-dabe-4aaf-9c58-9a269c1a715d",
   "metadata": {},
   "outputs": [
    {
     "data": {
      "text/html": [
       "<div>\n",
       "<style scoped>\n",
       "    .dataframe tbody tr th:only-of-type {\n",
       "        vertical-align: middle;\n",
       "    }\n",
       "\n",
       "    .dataframe tbody tr th {\n",
       "        vertical-align: top;\n",
       "    }\n",
       "\n",
       "    .dataframe thead th {\n",
       "        text-align: right;\n",
       "    }\n",
       "</style>\n",
       "<table border=\"1\" class=\"dataframe\">\n",
       "  <thead>\n",
       "    <tr style=\"text-align: right;\">\n",
       "      <th></th>\n",
       "      <th>OrderID</th>\n",
       "      <th>CustomerID</th>\n",
       "      <th>Amount</th>\n",
       "      <th>OrderDate</th>\n",
       "    </tr>\n",
       "  </thead>\n",
       "  <tbody>\n",
       "    <tr>\n",
       "      <th>0</th>\n",
       "      <td>False</td>\n",
       "      <td>False</td>\n",
       "      <td>False</td>\n",
       "      <td>False</td>\n",
       "    </tr>\n",
       "    <tr>\n",
       "      <th>1</th>\n",
       "      <td>False</td>\n",
       "      <td>False</td>\n",
       "      <td>False</td>\n",
       "      <td>False</td>\n",
       "    </tr>\n",
       "    <tr>\n",
       "      <th>2</th>\n",
       "      <td>False</td>\n",
       "      <td>False</td>\n",
       "      <td>False</td>\n",
       "      <td>False</td>\n",
       "    </tr>\n",
       "    <tr>\n",
       "      <th>3</th>\n",
       "      <td>False</td>\n",
       "      <td>False</td>\n",
       "      <td>True</td>\n",
       "      <td>False</td>\n",
       "    </tr>\n",
       "    <tr>\n",
       "      <th>4</th>\n",
       "      <td>False</td>\n",
       "      <td>True</td>\n",
       "      <td>False</td>\n",
       "      <td>False</td>\n",
       "    </tr>\n",
       "  </tbody>\n",
       "</table>\n",
       "</div>"
      ],
      "text/plain": [
       "   OrderID  CustomerID  Amount  OrderDate\n",
       "0    False       False   False      False\n",
       "1    False       False   False      False\n",
       "2    False       False   False      False\n",
       "3    False       False    True      False\n",
       "4    False        True   False      False"
      ]
     },
     "execution_count": 78,
     "metadata": {},
     "output_type": "execute_result"
    }
   ],
   "source": [
    "df1.isnull()"
   ]
  },
  {
   "cell_type": "code",
   "execution_count": 80,
   "id": "df13a31f-38e2-4451-a7d5-530156bb8acc",
   "metadata": {},
   "outputs": [
    {
     "data": {
      "text/html": [
       "<div>\n",
       "<style scoped>\n",
       "    .dataframe tbody tr th:only-of-type {\n",
       "        vertical-align: middle;\n",
       "    }\n",
       "\n",
       "    .dataframe tbody tr th {\n",
       "        vertical-align: top;\n",
       "    }\n",
       "\n",
       "    .dataframe thead th {\n",
       "        text-align: right;\n",
       "    }\n",
       "</style>\n",
       "<table border=\"1\" class=\"dataframe\">\n",
       "  <thead>\n",
       "    <tr style=\"text-align: right;\">\n",
       "      <th></th>\n",
       "      <th>CustomerID</th>\n",
       "      <th>Name</th>\n",
       "      <th>Age</th>\n",
       "      <th>City</th>\n",
       "    </tr>\n",
       "  </thead>\n",
       "  <tbody>\n",
       "    <tr>\n",
       "      <th>0</th>\n",
       "      <td>1</td>\n",
       "      <td>Alice</td>\n",
       "      <td>25.00</td>\n",
       "      <td>New York</td>\n",
       "    </tr>\n",
       "    <tr>\n",
       "      <th>1</th>\n",
       "      <td>2</td>\n",
       "      <td>Bob</td>\n",
       "      <td>30.00</td>\n",
       "      <td>Los Angeles</td>\n",
       "    </tr>\n",
       "    <tr>\n",
       "      <th>2</th>\n",
       "      <td>3</td>\n",
       "      <td>Charlie</td>\n",
       "      <td>35.00</td>\n",
       "      <td>Los Angeles</td>\n",
       "    </tr>\n",
       "    <tr>\n",
       "      <th>3</th>\n",
       "      <td>4</td>\n",
       "      <td>David</td>\n",
       "      <td>33.75</td>\n",
       "      <td>Chicago</td>\n",
       "    </tr>\n",
       "    <tr>\n",
       "      <th>4</th>\n",
       "      <td>5</td>\n",
       "      <td>Eve</td>\n",
       "      <td>45.00</td>\n",
       "      <td>Houston</td>\n",
       "    </tr>\n",
       "  </tbody>\n",
       "</table>\n",
       "</div>"
      ],
      "text/plain": [
       "   CustomerID     Name    Age         City\n",
       "0           1    Alice  25.00     New York\n",
       "1           2      Bob  30.00  Los Angeles\n",
       "2           3  Charlie  35.00  Los Angeles\n",
       "3           4    David  33.75      Chicago\n",
       "4           5      Eve  45.00      Houston"
      ]
     },
     "execution_count": 80,
     "metadata": {},
     "output_type": "execute_result"
    }
   ],
   "source": [
    "new_df = df.fillna(0)\n",
    "new_df"
   ]
  },
  {
   "cell_type": "code",
   "execution_count": 84,
   "id": "92e600cb-1096-4fe3-be1e-abaccf6214a4",
   "metadata": {},
   "outputs": [
    {
     "data": {
      "text/html": [
       "<div>\n",
       "<style scoped>\n",
       "    .dataframe tbody tr th:only-of-type {\n",
       "        vertical-align: middle;\n",
       "    }\n",
       "\n",
       "    .dataframe tbody tr th {\n",
       "        vertical-align: top;\n",
       "    }\n",
       "\n",
       "    .dataframe thead th {\n",
       "        text-align: right;\n",
       "    }\n",
       "</style>\n",
       "<table border=\"1\" class=\"dataframe\">\n",
       "  <thead>\n",
       "    <tr style=\"text-align: right;\">\n",
       "      <th></th>\n",
       "      <th>OrderID</th>\n",
       "      <th>CustomerID</th>\n",
       "      <th>Amount</th>\n",
       "      <th>OrderDate</th>\n",
       "    </tr>\n",
       "  </thead>\n",
       "  <tbody>\n",
       "    <tr>\n",
       "      <th>0</th>\n",
       "      <td>101</td>\n",
       "      <td>1.0</td>\n",
       "      <td>250.5000</td>\n",
       "      <td>2024-12-20</td>\n",
       "    </tr>\n",
       "    <tr>\n",
       "      <th>1</th>\n",
       "      <td>102</td>\n",
       "      <td>2.0</td>\n",
       "      <td>120.0000</td>\n",
       "      <td>2024-12-21</td>\n",
       "    </tr>\n",
       "    <tr>\n",
       "      <th>2</th>\n",
       "      <td>103</td>\n",
       "      <td>3.0</td>\n",
       "      <td>320.0000</td>\n",
       "      <td>2024-12-22</td>\n",
       "    </tr>\n",
       "    <tr>\n",
       "      <th>3</th>\n",
       "      <td>104</td>\n",
       "      <td>4.0</td>\n",
       "      <td>210.3125</td>\n",
       "      <td>2024-12-23</td>\n",
       "    </tr>\n",
       "    <tr>\n",
       "      <th>4</th>\n",
       "      <td>105</td>\n",
       "      <td>3.0</td>\n",
       "      <td>150.7500</td>\n",
       "      <td>2024-12-24</td>\n",
       "    </tr>\n",
       "  </tbody>\n",
       "</table>\n",
       "</div>"
      ],
      "text/plain": [
       "   OrderID  CustomerID    Amount   OrderDate\n",
       "0      101         1.0  250.5000  2024-12-20\n",
       "1      102         2.0  120.0000  2024-12-21\n",
       "2      103         3.0  320.0000  2024-12-22\n",
       "3      104         4.0  210.3125  2024-12-23\n",
       "4      105         3.0  150.7500  2024-12-24"
      ]
     },
     "execution_count": 84,
     "metadata": {},
     "output_type": "execute_result"
    }
   ],
   "source": [
    "df1 = df1.fillna(df1.mean(numeric_only = True))\n",
    "df1\n"
   ]
  },
  {
   "cell_type": "code",
   "execution_count": 90,
   "id": "f1bc45d0-93af-47ac-88ed-d03b874c214f",
   "metadata": {},
   "outputs": [
    {
     "name": "stdout",
     "output_type": "stream",
     "text": [
      "0    2024-12-20\n",
      "1    2024-12-21\n",
      "2    2024-12-22\n",
      "3    2024-12-23\n",
      "4    2024-12-24\n",
      "Name: OrderDate, dtype: object\n"
     ]
    }
   ],
   "source": [
    "print(df1['OrderDate'])"
   ]
  },
  {
   "cell_type": "code",
   "execution_count": 92,
   "id": "1bca8ae6-878f-4187-90af-1675b86b013b",
   "metadata": {},
   "outputs": [
    {
     "name": "stdout",
     "output_type": "stream",
     "text": [
      "OrderID              101\n",
      "CustomerID           1.0\n",
      "Amount             250.5\n",
      "OrderDate     2024-12-20\n",
      "Name: 0, dtype: object\n"
     ]
    }
   ],
   "source": [
    "print(df1.loc[0])"
   ]
  },
  {
   "cell_type": "code",
   "execution_count": 101,
   "id": "622843b6-b6c6-4f56-8618-27f3bbd684dd",
   "metadata": {},
   "outputs": [
    {
     "data": {
      "text/html": [
       "<div>\n",
       "<style scoped>\n",
       "    .dataframe tbody tr th:only-of-type {\n",
       "        vertical-align: middle;\n",
       "    }\n",
       "\n",
       "    .dataframe tbody tr th {\n",
       "        vertical-align: top;\n",
       "    }\n",
       "\n",
       "    .dataframe thead th {\n",
       "        text-align: right;\n",
       "    }\n",
       "</style>\n",
       "<table border=\"1\" class=\"dataframe\">\n",
       "  <thead>\n",
       "    <tr style=\"text-align: right;\">\n",
       "      <th></th>\n",
       "      <th>CustomerID</th>\n",
       "      <th>Age</th>\n",
       "    </tr>\n",
       "  </thead>\n",
       "  <tbody>\n",
       "    <tr>\n",
       "      <th>count</th>\n",
       "      <td>5.000000</td>\n",
       "      <td>5.0000</td>\n",
       "    </tr>\n",
       "    <tr>\n",
       "      <th>mean</th>\n",
       "      <td>3.000000</td>\n",
       "      <td>33.7500</td>\n",
       "    </tr>\n",
       "    <tr>\n",
       "      <th>std</th>\n",
       "      <td>1.581139</td>\n",
       "      <td>7.3951</td>\n",
       "    </tr>\n",
       "    <tr>\n",
       "      <th>min</th>\n",
       "      <td>1.000000</td>\n",
       "      <td>25.0000</td>\n",
       "    </tr>\n",
       "    <tr>\n",
       "      <th>25%</th>\n",
       "      <td>2.000000</td>\n",
       "      <td>30.0000</td>\n",
       "    </tr>\n",
       "    <tr>\n",
       "      <th>50%</th>\n",
       "      <td>3.000000</td>\n",
       "      <td>33.7500</td>\n",
       "    </tr>\n",
       "    <tr>\n",
       "      <th>75%</th>\n",
       "      <td>4.000000</td>\n",
       "      <td>35.0000</td>\n",
       "    </tr>\n",
       "    <tr>\n",
       "      <th>max</th>\n",
       "      <td>5.000000</td>\n",
       "      <td>45.0000</td>\n",
       "    </tr>\n",
       "  </tbody>\n",
       "</table>\n",
       "</div>"
      ],
      "text/plain": [
       "       CustomerID      Age\n",
       "count    5.000000   5.0000\n",
       "mean     3.000000  33.7500\n",
       "std      1.581139   7.3951\n",
       "min      1.000000  25.0000\n",
       "25%      2.000000  30.0000\n",
       "50%      3.000000  33.7500\n",
       "75%      4.000000  35.0000\n",
       "max      5.000000  45.0000"
      ]
     },
     "execution_count": 101,
     "metadata": {},
     "output_type": "execute_result"
    }
   ],
   "source": [
    "df.describe()"
   ]
  },
  {
   "cell_type": "code",
   "execution_count": 103,
   "id": "17239337-0c57-437d-8158-361b2b5c2567",
   "metadata": {},
   "outputs": [
    {
     "name": "stdout",
     "output_type": "stream",
     "text": [
      "<class 'pandas.core.frame.DataFrame'>\n",
      "RangeIndex: 5 entries, 0 to 4\n",
      "Data columns (total 4 columns):\n",
      " #   Column      Non-Null Count  Dtype  \n",
      "---  ------      --------------  -----  \n",
      " 0   CustomerID  5 non-null      int64  \n",
      " 1   Name        5 non-null      object \n",
      " 2   Age         5 non-null      float64\n",
      " 3   City        5 non-null      object \n",
      "dtypes: float64(1), int64(1), object(2)\n",
      "memory usage: 292.0+ bytes\n"
     ]
    }
   ],
   "source": [
    "df.info()"
   ]
  },
  {
   "cell_type": "code",
   "execution_count": 105,
   "id": "132f72d6-2193-4d24-8dac-202b8fff90e4",
   "metadata": {},
   "outputs": [
    {
     "data": {
      "text/html": [
       "<div>\n",
       "<style scoped>\n",
       "    .dataframe tbody tr th:only-of-type {\n",
       "        vertical-align: middle;\n",
       "    }\n",
       "\n",
       "    .dataframe tbody tr th {\n",
       "        vertical-align: top;\n",
       "    }\n",
       "\n",
       "    .dataframe thead th {\n",
       "        text-align: right;\n",
       "    }\n",
       "</style>\n",
       "<table border=\"1\" class=\"dataframe\">\n",
       "  <thead>\n",
       "    <tr style=\"text-align: right;\">\n",
       "      <th></th>\n",
       "      <th>OrderID</th>\n",
       "      <th>CustomerID</th>\n",
       "      <th>Amount</th>\n",
       "      <th>OrderDate</th>\n",
       "    </tr>\n",
       "  </thead>\n",
       "  <tbody>\n",
       "    <tr>\n",
       "      <th>0</th>\n",
       "      <td>101</td>\n",
       "      <td>1.0</td>\n",
       "      <td>250.5000</td>\n",
       "      <td>2024-12-20</td>\n",
       "    </tr>\n",
       "    <tr>\n",
       "      <th>1</th>\n",
       "      <td>102</td>\n",
       "      <td>2.0</td>\n",
       "      <td>120.0000</td>\n",
       "      <td>2024-12-21</td>\n",
       "    </tr>\n",
       "    <tr>\n",
       "      <th>2</th>\n",
       "      <td>103</td>\n",
       "      <td>3.0</td>\n",
       "      <td>320.0000</td>\n",
       "      <td>2024-12-22</td>\n",
       "    </tr>\n",
       "    <tr>\n",
       "      <th>3</th>\n",
       "      <td>104</td>\n",
       "      <td>4.0</td>\n",
       "      <td>210.3125</td>\n",
       "      <td>2024-12-23</td>\n",
       "    </tr>\n",
       "    <tr>\n",
       "      <th>4</th>\n",
       "      <td>105</td>\n",
       "      <td>3.0</td>\n",
       "      <td>150.7500</td>\n",
       "      <td>2024-12-24</td>\n",
       "    </tr>\n",
       "  </tbody>\n",
       "</table>\n",
       "</div>"
      ],
      "text/plain": [
       "   OrderID  CustomerID    Amount   OrderDate\n",
       "0      101         1.0  250.5000  2024-12-20\n",
       "1      102         2.0  120.0000  2024-12-21\n",
       "2      103         3.0  320.0000  2024-12-22\n",
       "3      104         4.0  210.3125  2024-12-23\n",
       "4      105         3.0  150.7500  2024-12-24"
      ]
     },
     "execution_count": 105,
     "metadata": {},
     "output_type": "execute_result"
    }
   ],
   "source": [
    "df1 = df1.ffill()\n",
    "df1"
   ]
  },
  {
   "cell_type": "code",
   "execution_count": 107,
   "id": "a0e247d8-e815-4b3d-8010-a0c097d8a73e",
   "metadata": {},
   "outputs": [
    {
     "name": "stdout",
     "output_type": "stream",
     "text": [
      "320.0\n"
     ]
    }
   ],
   "source": [
    "print(df1['Amount'].max())"
   ]
  },
  {
   "cell_type": "code",
   "execution_count": 109,
   "id": "721c672e-0c0f-4bc3-8f01-089966962824",
   "metadata": {},
   "outputs": [
    {
     "name": "stdout",
     "output_type": "stream",
     "text": [
      "210.3125\n"
     ]
    }
   ],
   "source": [
    "print(df1['Amount'].mean())"
   ]
  },
  {
   "cell_type": "code",
   "execution_count": 123,
   "id": "2f78d7c2-62f9-4072-b982-ce8ca5871f7b",
   "metadata": {},
   "outputs": [
    {
     "data": {
      "image/png": "[encoded data removed]",
      "text/plain": [
       "<Figure size 640x480 with 1 Axes>"
      ]
     },
     "metadata": {},
     "output_type": "display_data"
    }
   ],
   "source": [
    "import matplotlib.pyplot as plt\n",
    "df1[\"Amount\"].plot()\n",
    "plt.show()\n"
   ]
  },
  {
   "cell_type": "code",
   "execution_count": 127,
   "id": "fd9c229b-5f0b-4014-bfb3-53e9241a78bf",
   "metadata": {},
   "outputs": [
    {
     "name": "stdout",
     "output_type": "stream",
     "text": [
      "   ReviewID  ProductID  CustomerID  Rating\n",
      "0       301      201.0           1     5.0\n",
      "1       302      202.0           3     4.0\n",
      "2       303      203.0           2     3.0\n",
      "3       304      204.0           5     NaN\n",
      "4       305        NaN           4     5.0\n"
     ]
    }
   ],
   "source": [
    "import pandas as pd\n",
    "df2 = pd.read_csv(\"reviews.csv\")\n",
    "print(df2)"
   ]
  },
  {
   "cell_type": "code",
   "execution_count": 129,
   "id": "5512f3d4-cb1a-4630-89ce-0801dd28ce34",
   "metadata": {},
   "outputs": [
    {
     "data": {
      "text/html": [
       "<div>\n",
       "<style scoped>\n",
       "    .dataframe tbody tr th:only-of-type {\n",
       "        vertical-align: middle;\n",
       "    }\n",
       "\n",
       "    .dataframe tbody tr th {\n",
       "        vertical-align: top;\n",
       "    }\n",
       "\n",
       "    .dataframe thead th {\n",
       "        text-align: right;\n",
       "    }\n",
       "</style>\n",
       "<table border=\"1\" class=\"dataframe\">\n",
       "  <thead>\n",
       "    <tr style=\"text-align: right;\">\n",
       "      <th></th>\n",
       "      <th>ReviewID</th>\n",
       "      <th>ProductID</th>\n",
       "      <th>CustomerID</th>\n",
       "      <th>Rating</th>\n",
       "    </tr>\n",
       "  </thead>\n",
       "  <tbody>\n",
       "    <tr>\n",
       "      <th>0</th>\n",
       "      <td>False</td>\n",
       "      <td>False</td>\n",
       "      <td>False</td>\n",
       "      <td>False</td>\n",
       "    </tr>\n",
       "    <tr>\n",
       "      <th>1</th>\n",
       "      <td>False</td>\n",
       "      <td>False</td>\n",
       "      <td>False</td>\n",
       "      <td>False</td>\n",
       "    </tr>\n",
       "    <tr>\n",
       "      <th>2</th>\n",
       "      <td>False</td>\n",
       "      <td>False</td>\n",
       "      <td>False</td>\n",
       "      <td>False</td>\n",
       "    </tr>\n",
       "    <tr>\n",
       "      <th>3</th>\n",
       "      <td>False</td>\n",
       "      <td>False</td>\n",
       "      <td>False</td>\n",
       "      <td>True</td>\n",
       "    </tr>\n",
       "    <tr>\n",
       "      <th>4</th>\n",
       "      <td>False</td>\n",
       "      <td>True</td>\n",
       "      <td>False</td>\n",
       "      <td>False</td>\n",
       "    </tr>\n",
       "  </tbody>\n",
       "</table>\n",
       "</div>"
      ],
      "text/plain": [
       "   ReviewID  ProductID  CustomerID  Rating\n",
       "0     False      False       False   False\n",
       "1     False      False       False   False\n",
       "2     False      False       False   False\n",
       "3     False      False       False    True\n",
       "4     False       True       False   False"
      ]
     },
     "execution_count": 129,
     "metadata": {},
     "output_type": "execute_result"
    }
   ],
   "source": [
    "df2.isnull()"
   ]
  },
  {
   "cell_type": "code",
   "execution_count": 131,
   "id": "bb209ac1-be79-493c-89d8-058adbfa1eb7",
   "metadata": {},
   "outputs": [
    {
     "data": {
      "text/html": [
       "<div>\n",
       "<style scoped>\n",
       "    .dataframe tbody tr th:only-of-type {\n",
       "        vertical-align: middle;\n",
       "    }\n",
       "\n",
       "    .dataframe tbody tr th {\n",
       "        vertical-align: top;\n",
       "    }\n",
       "\n",
       "    .dataframe thead th {\n",
       "        text-align: right;\n",
       "    }\n",
       "</style>\n",
       "<table border=\"1\" class=\"dataframe\">\n",
       "  <thead>\n",
       "    <tr style=\"text-align: right;\">\n",
       "      <th></th>\n",
       "      <th>ReviewID</th>\n",
       "      <th>ProductID</th>\n",
       "      <th>CustomerID</th>\n",
       "      <th>Rating</th>\n",
       "    </tr>\n",
       "  </thead>\n",
       "  <tbody>\n",
       "    <tr>\n",
       "      <th>0</th>\n",
       "      <td>301</td>\n",
       "      <td>201.0</td>\n",
       "      <td>1</td>\n",
       "      <td>5.0</td>\n",
       "    </tr>\n",
       "    <tr>\n",
       "      <th>1</th>\n",
       "      <td>302</td>\n",
       "      <td>202.0</td>\n",
       "      <td>3</td>\n",
       "      <td>4.0</td>\n",
       "    </tr>\n",
       "    <tr>\n",
       "      <th>2</th>\n",
       "      <td>303</td>\n",
       "      <td>203.0</td>\n",
       "      <td>2</td>\n",
       "      <td>3.0</td>\n",
       "    </tr>\n",
       "    <tr>\n",
       "      <th>3</th>\n",
       "      <td>304</td>\n",
       "      <td>204.0</td>\n",
       "      <td>5</td>\n",
       "      <td>5.0</td>\n",
       "    </tr>\n",
       "    <tr>\n",
       "      <th>4</th>\n",
       "      <td>305</td>\n",
       "      <td>0.0</td>\n",
       "      <td>4</td>\n",
       "      <td>5.0</td>\n",
       "    </tr>\n",
       "  </tbody>\n",
       "</table>\n",
       "</div>"
      ],
      "text/plain": [
       "   ReviewID  ProductID  CustomerID Rating\n",
       "0       301      201.0           1    5.0\n",
       "1       302      202.0           3    4.0\n",
       "2       303      203.0           2    3.0\n",
       "3       304      204.0           5    5.0\n",
       "4       305        0.0           4    5.0"
      ]
     },
     "execution_count": 131,
     "metadata": {},
     "output_type": "execute_result"
    }
   ],
   "source": [
    "new_df=df2.fillna({\n",
    "    'ProductID':0,\n",
    "    'Rating':'5.0'})\n",
    "new_df"
   ]
  },
  {
   "cell_type": "code",
   "execution_count": 143,
   "id": "3c5400ac-7cfb-4df1-a2a6-7ddfe8bee7e5",
   "metadata": {},
   "outputs": [
    {
     "name": "stdout",
     "output_type": "stream",
     "text": [
      "   ReviewID  ProductID  CustomerID  Rating\n",
      "0       301      201.0           1     5.0\n",
      "1       302      202.0           3     4.0\n",
      "2       303      203.0           2     3.0\n",
      "3       304      204.0           5     3.0\n",
      "4       305      204.0           4     5.0\n",
      "   ReviewID  ProductID  CustomerID  Rating\n",
      "0       301      201.0           1     5.0\n",
      "1       302      202.0           3     4.0\n",
      "2       303      203.0           2     3.0\n",
      "3       304      204.0           5     NaN\n",
      "4       305        NaN           4     5.0\n"
     ]
    }
   ],
   "source": [
    "new_df = df2.ffill()\n",
    "print(new_df)\n",
    "print(df2)"
   ]
  },
  {
   "cell_type": "code",
   "execution_count": 145,
   "id": "c1e0c0f2-a0d3-404a-a4f2-b92b6d7f70c8",
   "metadata": {},
   "outputs": [
    {
     "name": "stdout",
     "output_type": "stream",
     "text": [
      "   ReviewID  ProductID  CustomerID  Rating\n",
      "0       301      201.0           1     5.0\n",
      "1       302      202.0           3     4.0\n",
      "2       303      203.0           2     3.0\n",
      "3       304      204.0           5     5.0\n",
      "4       305        NaN           4     5.0\n",
      "   ReviewID  ProductID  CustomerID  Rating\n",
      "0       301      201.0           1     5.0\n",
      "1       302      202.0           3     4.0\n",
      "2       303      203.0           2     3.0\n",
      "3       304      204.0           5     NaN\n",
      "4       305        NaN           4     5.0\n"
     ]
    }
   ],
   "source": [
    "new_df = df2.bfill()\n",
    "print(new_df)\n",
    "print(df2)"
   ]
  },
  {
   "cell_type": "code",
   "execution_count": 147,
   "id": "f78e4aa3-7ba9-4b42-9466-356896672c96",
   "metadata": {},
   "outputs": [
    {
     "name": "stdout",
     "output_type": "stream",
     "text": [
      "   ReviewID  ProductID  CustomerID  Rating\n",
      "0       301      201.0           1     5.0\n",
      "1       302      202.0           3     4.0\n",
      "2       303      203.0           2     3.0\n",
      "   ReviewID  ProductID  CustomerID  Rating\n",
      "0       301      201.0           1     5.0\n",
      "1       302      202.0           3     4.0\n",
      "2       303      203.0           2     3.0\n",
      "3       304      204.0           5     NaN\n",
      "4       305        NaN           4     5.0\n"
     ]
    }
   ],
   "source": [
    "new_df = df2.dropna()\n",
    "print(new_df)\n",
    "print(df2)"
   ]
  },
  {
   "cell_type": "code",
   "execution_count": 149,
   "id": "90fee50f-0286-488e-884f-32cbb8acac3f",
   "metadata": {},
   "outputs": [
    {
     "name": "stdout",
     "output_type": "stream",
     "text": [
      "   ReviewID  CustomerID\n",
      "0       301           1\n",
      "1       302           3\n",
      "2       303           2\n",
      "3       304           5\n",
      "4       305           4\n",
      "   ReviewID  ProductID  CustomerID  Rating\n",
      "0       301      201.0           1     5.0\n",
      "1       302      202.0           3     4.0\n",
      "2       303      203.0           2     3.0\n",
      "3       304      204.0           5     NaN\n",
      "4       305        NaN           4     5.0\n"
     ]
    }
   ],
   "source": [
    "new_df = df2.dropna(axis=1)\n",
    "print(new_df)\n",
    "print(df2)"
   ]
  },
  {
   "cell_type": "code",
   "execution_count": 161,
   "id": "482b06c7-a453-41d1-8d31-d7f86f454ef1",
   "metadata": {},
   "outputs": [
    {
     "name": "stdout",
     "output_type": "stream",
     "text": [
      "   ReviewID  ProductID  CustomerID  Rating\n",
      "0       301      201.0           1     5.0\n",
      "1       302      202.0           3     4.0\n",
      "2       303      203.0           2     3.0\n",
      "3       304      204.0           5     0.0\n",
      "4       305        0.0           4     5.0\n",
      "   ReviewID  ProductID  CustomerID  Rating\n",
      "0       301      201.0           1     5.0\n",
      "1       302      202.0           3     4.0\n",
      "2       303      203.0           2     3.0\n",
      "3       304      204.0           5     NaN\n",
      "4       305        NaN           4     5.0\n"
     ]
    }
   ],
   "source": [
    "import numpy as np\n",
    "new_df = df2.replace(to_replace=np.nan,value=0)\n",
    "print(new_df)\n",
    "print(df2)"
   ]
  },
  {
   "cell_type": "code",
   "execution_count": 165,
   "id": "07fb8cd9-df05-4cad-a5b4-56562f1796eb",
   "metadata": {},
   "outputs": [
    {
     "name": "stdout",
     "output_type": "stream",
     "text": [
      "5.0\n"
     ]
    }
   ],
   "source": [
    "print(df2[\"Rating\"].max())"
   ]
  },
  {
   "cell_type": "code",
   "execution_count": 167,
   "id": "1585867b-3496-43de-b7fc-a1acb2c71486",
   "metadata": {},
   "outputs": [
    {
     "name": "stdout",
     "output_type": "stream",
     "text": [
      "4.25\n"
     ]
    }
   ],
   "source": [
    "print(df2[\"Rating\"].mean())"
   ]
  },
  {
   "cell_type": "code",
   "execution_count": 173,
   "id": "46b48abe-2fa7-407f-8ac5-402509a5d4e3",
   "metadata": {},
   "outputs": [
    {
     "data": {
      "image/png": "[encoded data removed]",
      "text/plain": [
       "<Figure size 640x480 with 1 Axes>"
      ]
     },
     "metadata": {},
     "output_type": "display_data"
    }
   ],
   "source": [
    "import matplotlib.pyplot as plt\n",
    "df2['Rating'].plot()\n",
    "plt.show()\n"
   ]
  },
  {
   "cell_type": "code",
   "execution_count": 175,
   "id": "c4bc0643-65da-4d7b-9a9d-67df2c6617d9",
   "metadata": {},
   "outputs": [
    {
     "name": "stdout",
     "output_type": "stream",
     "text": [
      "   ProductID ProductName     Category   Price\n",
      "0        201      Laptop  Electronics  1200.0\n",
      "1        202  Smartphone  Electronics   800.0\n",
      "2        203      Tablet  Electronics   400.0\n",
      "3        204     Monitor  Accessories   200.0\n",
      "4        205    Keyboard  Accessories     NaN\n"
     ]
    }
   ],
   "source": [
    "import pandas as pd\n",
    "df3 = pd.read_csv(\"products.csv\")\n",
    "print(df3)"
   ]
  },
  {
   "cell_type": "code",
   "execution_count": 177,
   "id": "20f0495a-cb48-46fb-a6d2-e8bd6cdd6bf3",
   "metadata": {},
   "outputs": [
    {
     "data": {
      "text/html": [
       "<div>\n",
       "<style scoped>\n",
       "    .dataframe tbody tr th:only-of-type {\n",
       "        vertical-align: middle;\n",
       "    }\n",
       "\n",
       "    .dataframe tbody tr th {\n",
       "        vertical-align: top;\n",
       "    }\n",
       "\n",
       "    .dataframe thead th {\n",
       "        text-align: right;\n",
       "    }\n",
       "</style>\n",
       "<table border=\"1\" class=\"dataframe\">\n",
       "  <thead>\n",
       "    <tr style=\"text-align: right;\">\n",
       "      <th></th>\n",
       "      <th>ProductID</th>\n",
       "      <th>ProductName</th>\n",
       "      <th>Category</th>\n",
       "      <th>Price</th>\n",
       "    </tr>\n",
       "  </thead>\n",
       "  <tbody>\n",
       "    <tr>\n",
       "      <th>0</th>\n",
       "      <td>False</td>\n",
       "      <td>False</td>\n",
       "      <td>False</td>\n",
       "      <td>False</td>\n",
       "    </tr>\n",
       "    <tr>\n",
       "      <th>1</th>\n",
       "      <td>False</td>\n",
       "      <td>False</td>\n",
       "      <td>False</td>\n",
       "      <td>False</td>\n",
       "    </tr>\n",
       "    <tr>\n",
       "      <th>2</th>\n",
       "      <td>False</td>\n",
       "      <td>False</td>\n",
       "      <td>False</td>\n",
       "      <td>False</td>\n",
       "    </tr>\n",
       "    <tr>\n",
       "      <th>3</th>\n",
       "      <td>False</td>\n",
       "      <td>False</td>\n",
       "      <td>False</td>\n",
       "      <td>False</td>\n",
       "    </tr>\n",
       "    <tr>\n",
       "      <th>4</th>\n",
       "      <td>False</td>\n",
       "      <td>False</td>\n",
       "      <td>False</td>\n",
       "      <td>True</td>\n",
       "    </tr>\n",
       "  </tbody>\n",
       "</table>\n",
       "</div>"
      ],
      "text/plain": [
       "   ProductID  ProductName  Category  Price\n",
       "0      False        False     False  False\n",
       "1      False        False     False  False\n",
       "2      False        False     False  False\n",
       "3      False        False     False  False\n",
       "4      False        False     False   True"
      ]
     },
     "execution_count": 177,
     "metadata": {},
     "output_type": "execute_result"
    }
   ],
   "source": [
    "df3.isnull()"
   ]
  },
  {
   "cell_type": "code",
   "execution_count": 179,
   "id": "973c75f9-8641-4ac4-997b-b91ae2bd485d",
   "metadata": {},
   "outputs": [
    {
     "data": {
      "text/html": [
       "<div>\n",
       "<style scoped>\n",
       "    .dataframe tbody tr th:only-of-type {\n",
       "        vertical-align: middle;\n",
       "    }\n",
       "\n",
       "    .dataframe tbody tr th {\n",
       "        vertical-align: top;\n",
       "    }\n",
       "\n",
       "    .dataframe thead th {\n",
       "        text-align: right;\n",
       "    }\n",
       "</style>\n",
       "<table border=\"1\" class=\"dataframe\">\n",
       "  <thead>\n",
       "    <tr style=\"text-align: right;\">\n",
       "      <th></th>\n",
       "      <th>ProductID</th>\n",
       "      <th>ProductName</th>\n",
       "      <th>Category</th>\n",
       "      <th>Price</th>\n",
       "    </tr>\n",
       "  </thead>\n",
       "  <tbody>\n",
       "    <tr>\n",
       "      <th>0</th>\n",
       "      <td>201</td>\n",
       "      <td>Laptop</td>\n",
       "      <td>Electronics</td>\n",
       "      <td>1200.0</td>\n",
       "    </tr>\n",
       "    <tr>\n",
       "      <th>1</th>\n",
       "      <td>202</td>\n",
       "      <td>Smartphone</td>\n",
       "      <td>Electronics</td>\n",
       "      <td>800.0</td>\n",
       "    </tr>\n",
       "    <tr>\n",
       "      <th>2</th>\n",
       "      <td>203</td>\n",
       "      <td>Tablet</td>\n",
       "      <td>Electronics</td>\n",
       "      <td>400.0</td>\n",
       "    </tr>\n",
       "    <tr>\n",
       "      <th>3</th>\n",
       "      <td>204</td>\n",
       "      <td>Monitor</td>\n",
       "      <td>Accessories</td>\n",
       "      <td>200.0</td>\n",
       "    </tr>\n",
       "    <tr>\n",
       "      <th>4</th>\n",
       "      <td>205</td>\n",
       "      <td>Keyboard</td>\n",
       "      <td>Accessories</td>\n",
       "      <td>0.0</td>\n",
       "    </tr>\n",
       "  </tbody>\n",
       "</table>\n",
       "</div>"
      ],
      "text/plain": [
       "   ProductID ProductName     Category   Price\n",
       "0        201      Laptop  Electronics  1200.0\n",
       "1        202  Smartphone  Electronics   800.0\n",
       "2        203      Tablet  Electronics   400.0\n",
       "3        204     Monitor  Accessories   200.0\n",
       "4        205    Keyboard  Accessories     0.0"
      ]
     },
     "execution_count": 179,
     "metadata": {},
     "output_type": "execute_result"
    }
   ],
   "source": [
    "new_df=df3.fillna({\n",
    "    'Price':0,\n",
    "    })\n",
    "new_df"
   ]
  },
  {
   "cell_type": "code",
   "execution_count": 181,
   "id": "55597e51-317a-4e4a-8407-95c8c0e1c058",
   "metadata": {},
   "outputs": [
    {
     "data": {
      "text/html": [
       "<div>\n",
       "<style scoped>\n",
       "    .dataframe tbody tr th:only-of-type {\n",
       "        vertical-align: middle;\n",
       "    }\n",
       "\n",
       "    .dataframe tbody tr th {\n",
       "        vertical-align: top;\n",
       "    }\n",
       "\n",
       "    .dataframe thead th {\n",
       "        text-align: right;\n",
       "    }\n",
       "</style>\n",
       "<table border=\"1\" class=\"dataframe\">\n",
       "  <thead>\n",
       "    <tr style=\"text-align: right;\">\n",
       "      <th></th>\n",
       "      <th>ProductID</th>\n",
       "      <th>ProductName</th>\n",
       "      <th>Category</th>\n",
       "      <th>Price</th>\n",
       "    </tr>\n",
       "  </thead>\n",
       "  <tbody>\n",
       "    <tr>\n",
       "      <th>0</th>\n",
       "      <td>201</td>\n",
       "      <td>Laptop</td>\n",
       "      <td>Electronics</td>\n",
       "      <td>1200.0</td>\n",
       "    </tr>\n",
       "    <tr>\n",
       "      <th>1</th>\n",
       "      <td>202</td>\n",
       "      <td>Smartphone</td>\n",
       "      <td>Electronics</td>\n",
       "      <td>800.0</td>\n",
       "    </tr>\n",
       "    <tr>\n",
       "      <th>2</th>\n",
       "      <td>203</td>\n",
       "      <td>Tablet</td>\n",
       "      <td>Electronics</td>\n",
       "      <td>400.0</td>\n",
       "    </tr>\n",
       "    <tr>\n",
       "      <th>3</th>\n",
       "      <td>204</td>\n",
       "      <td>Monitor</td>\n",
       "      <td>Accessories</td>\n",
       "      <td>200.0</td>\n",
       "    </tr>\n",
       "    <tr>\n",
       "      <th>4</th>\n",
       "      <td>205</td>\n",
       "      <td>Keyboard</td>\n",
       "      <td>Accessories</td>\n",
       "      <td>650.0</td>\n",
       "    </tr>\n",
       "  </tbody>\n",
       "</table>\n",
       "</div>"
      ],
      "text/plain": [
       "   ProductID ProductName     Category   Price\n",
       "0        201      Laptop  Electronics  1200.0\n",
       "1        202  Smartphone  Electronics   800.0\n",
       "2        203      Tablet  Electronics   400.0\n",
       "3        204     Monitor  Accessories   200.0\n",
       "4        205    Keyboard  Accessories   650.0"
      ]
     },
     "execution_count": 181,
     "metadata": {},
     "output_type": "execute_result"
    }
   ],
   "source": [
    "new_df=df3.fillna({\n",
    "    'Price': df3['Price'].mean(),\n",
    "    })\n",
    "new_df"
   ]
  },
  {
   "cell_type": "code",
   "execution_count": 183,
   "id": "85555286-e8f5-4185-9630-bdad2d8500c8",
   "metadata": {},
   "outputs": [
    {
     "name": "stdout",
     "output_type": "stream",
     "text": [
      "   ProductID ProductName     Category   Price\n",
      "0        201      Laptop  Electronics  1200.0\n",
      "1        202  Smartphone  Electronics   800.0\n",
      "2        203      Tablet  Electronics   400.0\n",
      "3        204     Monitor  Accessories   200.0\n",
      "4        205    Keyboard  Accessories   200.0\n",
      "   ProductID ProductName     Category   Price\n",
      "0        201      Laptop  Electronics  1200.0\n",
      "1        202  Smartphone  Electronics   800.0\n",
      "2        203      Tablet  Electronics   400.0\n",
      "3        204     Monitor  Accessories   200.0\n",
      "4        205    Keyboard  Accessories     NaN\n"
     ]
    }
   ],
   "source": [
    "new_df = df3.ffill()\n",
    "print(new_df)\n",
    "print(df3)"
   ]
  },
  {
   "cell_type": "code",
   "execution_count": 187,
   "id": "53d4ebdc-e102-4d93-9dfa-98ff6a994a08",
   "metadata": {},
   "outputs": [
    {
     "name": "stdout",
     "output_type": "stream",
     "text": [
      "   ProductID ProductName     Category   Price\n",
      "0        201      Laptop  Electronics  1200.0\n",
      "1        202  Smartphone  Electronics   800.0\n",
      "2        203      Tablet  Electronics   400.0\n",
      "3        204     Monitor  Accessories   200.0\n",
      "4        205    Keyboard  Accessories     NaN\n",
      "   ProductID ProductName     Category   Price\n",
      "0        201      Laptop  Electronics  1200.0\n",
      "1        202  Smartphone  Electronics   800.0\n",
      "2        203      Tablet  Electronics   400.0\n",
      "3        204     Monitor  Accessories   200.0\n",
      "4        205    Keyboard  Accessories     NaN\n"
     ]
    }
   ],
   "source": [
    "new_df = df3.bfill()\n",
    "print(new_df)\n",
    "print(df3)"
   ]
  },
  {
   "cell_type": "code",
   "execution_count": 189,
   "id": "5379a55a-8db4-4d33-9a99-402473f7239b",
   "metadata": {},
   "outputs": [
    {
     "name": "stdout",
     "output_type": "stream",
     "text": [
      "   ProductID ProductName     Category   Price\n",
      "0        201      Laptop  Electronics  1200.0\n",
      "1        202  Smartphone  Electronics   800.0\n",
      "2        203      Tablet  Electronics   400.0\n",
      "3        204     Monitor  Accessories   200.0\n",
      "   ProductID ProductName     Category   Price\n",
      "0        201      Laptop  Electronics  1200.0\n",
      "1        202  Smartphone  Electronics   800.0\n",
      "2        203      Tablet  Electronics   400.0\n",
      "3        204     Monitor  Accessories   200.0\n",
      "4        205    Keyboard  Accessories     NaN\n"
     ]
    }
   ],
   "source": [
    "new_df = df3.dropna()\n",
    "print(new_df)\n",
    "print(df3)"
   ]
  },
  {
   "cell_type": "code",
   "execution_count": 191,
   "id": "8ac20f79-e56a-48f7-abeb-00176b2a60f3",
   "metadata": {},
   "outputs": [
    {
     "name": "stdout",
     "output_type": "stream",
     "text": [
      "   ProductID ProductName     Category\n",
      "0        201      Laptop  Electronics\n",
      "1        202  Smartphone  Electronics\n",
      "2        203      Tablet  Electronics\n",
      "3        204     Monitor  Accessories\n",
      "4        205    Keyboard  Accessories\n",
      "   ProductID ProductName     Category   Price\n",
      "0        201      Laptop  Electronics  1200.0\n",
      "1        202  Smartphone  Electronics   800.0\n",
      "2        203      Tablet  Electronics   400.0\n",
      "3        204     Monitor  Accessories   200.0\n",
      "4        205    Keyboard  Accessories     NaN\n"
     ]
    }
   ],
   "source": [
    "new_df = df3.dropna(axis=1)\n",
    "print(new_df)\n",
    "print(df3)"
   ]
  },
  {
   "cell_type": "code",
   "execution_count": 193,
   "id": "e8ebbd71-339d-49cd-972a-c1da69d6e241",
   "metadata": {},
   "outputs": [
    {
     "name": "stdout",
     "output_type": "stream",
     "text": [
      "   ProductID ProductName     Category   Price\n",
      "0        201      Laptop  Electronics  1200.0\n",
      "1        202  Smartphone  Electronics   800.0\n",
      "2        203      Tablet  Electronics   400.0\n",
      "3        204     Monitor  Accessories   200.0\n",
      "4        205    Keyboard  Accessories     0.0\n",
      "   ProductID ProductName     Category   Price\n",
      "0        201      Laptop  Electronics  1200.0\n",
      "1        202  Smartphone  Electronics   800.0\n",
      "2        203      Tablet  Electronics   400.0\n",
      "3        204     Monitor  Accessories   200.0\n",
      "4        205    Keyboard  Accessories     NaN\n"
     ]
    }
   ],
   "source": [
    "import numpy as np\n",
    "new_df = df3.replace(to_replace=np.nan,value=0)\n",
    "print(new_df)\n",
    "print(df3)"
   ]
  },
  {
   "cell_type": "code",
   "execution_count": 195,
   "id": "74656ce7-4932-4441-966d-e882357db56a",
   "metadata": {},
   "outputs": [
    {
     "name": "stdout",
     "output_type": "stream",
     "text": [
      "1200.0\n"
     ]
    }
   ],
   "source": [
    "print(df3['Price'].max())"
   ]
  },
  {
   "cell_type": "code",
   "execution_count": 197,
   "id": "b1cbb59c-da0e-44d4-be99-613abe517509",
   "metadata": {},
   "outputs": [
    {
     "name": "stdout",
     "output_type": "stream",
     "text": [
      "650.0\n"
     ]
    }
   ],
   "source": [
    "print(df3['Price'].mean())"
   ]
  },
  {
   "cell_type": "code",
   "execution_count": 199,
   "id": "f7c1445a-00b3-4d11-8e87-9849a2c2e427",
   "metadata": {},
   "outputs": [
    {
     "data": {
      "image/png": "[encoded data removed]",
      "text/plain": [
       "<Figure size 640x480 with 1 Axes>"
      ]
     },
     "metadata": {},
     "output_type": "display_data"
    }
   ],
   "source": [
    "import matplotlib.pyplot as plt\n",
    "df3['Price'].plot()\n",
    "plt.show()\n"
   ]
  },
  {
   "cell_type": "code",
   "execution_count": 203,
   "id": "81005198-67c2-4547-9e1e-2f3cc8fe83d8",
   "metadata": {},
   "outputs": [
    {
     "data": {
      "text/html": [
       "<div>\n",
       "<style scoped>\n",
       "    .dataframe tbody tr th:only-of-type {\n",
       "        vertical-align: middle;\n",
       "    }\n",
       "\n",
       "    .dataframe tbody tr th {\n",
       "        vertical-align: top;\n",
       "    }\n",
       "\n",
       "    .dataframe thead th {\n",
       "        text-align: right;\n",
       "    }\n",
       "</style>\n",
       "<table border=\"1\" class=\"dataframe\">\n",
       "  <thead>\n",
       "    <tr style=\"text-align: right;\">\n",
       "      <th></th>\n",
       "      <th>CustomerID</th>\n",
       "      <th>Name</th>\n",
       "      <th>Age</th>\n",
       "      <th>City</th>\n",
       "      <th>OrderID</th>\n",
       "      <th>Amount</th>\n",
       "      <th>OrderDate</th>\n",
       "    </tr>\n",
       "  </thead>\n",
       "  <tbody>\n",
       "    <tr>\n",
       "      <th>0</th>\n",
       "      <td>1</td>\n",
       "      <td>Alice</td>\n",
       "      <td>25.00</td>\n",
       "      <td>New York</td>\n",
       "      <td>101</td>\n",
       "      <td>250.5</td>\n",
       "      <td>2024-12-20</td>\n",
       "    </tr>\n",
       "    <tr>\n",
       "      <th>1</th>\n",
       "      <td>2</td>\n",
       "      <td>Bob</td>\n",
       "      <td>30.00</td>\n",
       "      <td>Los Angeles</td>\n",
       "      <td>102</td>\n",
       "      <td>120.0</td>\n",
       "      <td>2024-12-21</td>\n",
       "    </tr>\n",
       "    <tr>\n",
       "      <th>2</th>\n",
       "      <td>3</td>\n",
       "      <td>Charlie</td>\n",
       "      <td>35.00</td>\n",
       "      <td>Los Angeles</td>\n",
       "      <td>103</td>\n",
       "      <td>320.0</td>\n",
       "      <td>2024-12-22</td>\n",
       "    </tr>\n",
       "    <tr>\n",
       "      <th>3</th>\n",
       "      <td>4</td>\n",
       "      <td>David</td>\n",
       "      <td>33.75</td>\n",
       "      <td>Chicago</td>\n",
       "      <td>104</td>\n",
       "      <td>NaN</td>\n",
       "      <td>2024-12-23</td>\n",
       "    </tr>\n",
       "  </tbody>\n",
       "</table>\n",
       "</div>"
      ],
      "text/plain": [
       "   CustomerID     Name    Age         City  OrderID  Amount   OrderDate\n",
       "0           1    Alice  25.00     New York      101   250.5  2024-12-20\n",
       "1           2      Bob  30.00  Los Angeles      102   120.0  2024-12-21\n",
       "2           3  Charlie  35.00  Los Angeles      103   320.0  2024-12-22\n",
       "3           4    David  33.75      Chicago      104     NaN  2024-12-23"
      ]
     },
     "execution_count": 203,
     "metadata": {},
     "output_type": "execute_result"
    }
   ],
   "source": [
    "new_df = pd.merge(df,df1)\n",
    "new_df"
   ]
  },
  {
   "cell_type": "code",
   "execution_count": 225,
   "id": "b2e7a321-cb7e-46a8-a48c-5652597eb69b",
   "metadata": {},
   "outputs": [
    {
     "name": "stdout",
     "output_type": "stream",
     "text": [
      "   CustomerID     Name    Age         City  OrderID  Amount   OrderDate\n",
      "0           1    Alice  25.00     New York      101   250.5  2024-12-20\n",
      "1           2      Bob  30.00  Los Angeles      102   120.0  2024-12-21\n",
      "2           3  Charlie  35.00  Los Angeles      103   320.0  2024-12-22\n",
      "3           4    David  33.75      Chicago      104     NaN  2024-12-23\n",
      "   CustomerID     Name    Age         City  OrderID  Amount   OrderDate  \\\n",
      "0           1    Alice  25.00     New York      101   250.5  2024-12-20   \n",
      "1           2      Bob  30.00  Los Angeles      102   120.0  2024-12-21   \n",
      "2           3  Charlie  35.00  Los Angeles      103   320.0  2024-12-22   \n",
      "3           4    David  33.75      Chicago      104     NaN  2024-12-23   \n",
      "\n",
      "   ReviewID  ProductID  Rating  \n",
      "0       301      201.0     5.0  \n",
      "1       303      203.0     3.0  \n",
      "2       302      202.0     4.0  \n",
      "3       305        NaN     5.0  \n",
      "   CustomerID     Name   Age         City  OrderID  Amount   OrderDate  \\\n",
      "0           1    Alice  25.0     New York      101   250.5  2024-12-20   \n",
      "1           2      Bob  30.0  Los Angeles      102   120.0  2024-12-21   \n",
      "2           3  Charlie  35.0  Los Angeles      103   320.0  2024-12-22   \n",
      "\n",
      "   ReviewID  ProductID  Rating ProductName     Category   Price  \n",
      "0       301      201.0     5.0      Laptop  Electronics  1200.0  \n",
      "1       303      203.0     3.0      Tablet  Electronics   400.0  \n",
      "2       302      202.0     4.0  Smartphone  Electronics   800.0  \n"
     ]
    }
   ],
   "source": [
    "new_df=pd.merge(df,df1, how=\"inner\")\n",
    "print(new_df)\n",
    "new_df1=pd.merge(new_df,df2,how=\"inner\")\n",
    "print(new_df1)\n",
    "new_df2=pd.merge(new_df1,df3,how=\"inner\")\n",
    "print(new_df2)"
   ]
  },
  {
   "cell_type": "code",
   "execution_count": 235,
   "id": "988ca75f-3ac6-4f21-8cac-7ce831a4663b",
   "metadata": {},
   "outputs": [
    {
     "data": {
      "text/html": [
       "<div>\n",
       "<style scoped>\n",
       "    .dataframe tbody tr th:only-of-type {\n",
       "        vertical-align: middle;\n",
       "    }\n",
       "\n",
       "    .dataframe tbody tr th {\n",
       "        vertical-align: top;\n",
       "    }\n",
       "\n",
       "    .dataframe thead th {\n",
       "        text-align: right;\n",
       "    }\n",
       "</style>\n",
       "<table border=\"1\" class=\"dataframe\">\n",
       "  <thead>\n",
       "    <tr style=\"text-align: right;\">\n",
       "      <th></th>\n",
       "      <th>CustomerID</th>\n",
       "      <th>Name</th>\n",
       "      <th>Age</th>\n",
       "      <th>City</th>\n",
       "      <th>OrderID</th>\n",
       "      <th>Amount</th>\n",
       "      <th>OrderDate</th>\n",
       "      <th>ReviewID</th>\n",
       "      <th>ProductID</th>\n",
       "      <th>Rating</th>\n",
       "      <th>ProductName</th>\n",
       "      <th>Category</th>\n",
       "      <th>Price</th>\n",
       "    </tr>\n",
       "  </thead>\n",
       "  <tbody>\n",
       "    <tr>\n",
       "      <th>0</th>\n",
       "      <td>1.0</td>\n",
       "      <td>Alice</td>\n",
       "      <td>25.00</td>\n",
       "      <td>New York</td>\n",
       "      <td>NaN</td>\n",
       "      <td>NaN</td>\n",
       "      <td>NaN</td>\n",
       "      <td>NaN</td>\n",
       "      <td>NaN</td>\n",
       "      <td>NaN</td>\n",
       "      <td>NaN</td>\n",
       "      <td>NaN</td>\n",
       "      <td>NaN</td>\n",
       "    </tr>\n",
       "    <tr>\n",
       "      <th>1</th>\n",
       "      <td>2.0</td>\n",
       "      <td>Bob</td>\n",
       "      <td>30.00</td>\n",
       "      <td>Los Angeles</td>\n",
       "      <td>NaN</td>\n",
       "      <td>NaN</td>\n",
       "      <td>NaN</td>\n",
       "      <td>NaN</td>\n",
       "      <td>NaN</td>\n",
       "      <td>NaN</td>\n",
       "      <td>NaN</td>\n",
       "      <td>NaN</td>\n",
       "      <td>NaN</td>\n",
       "    </tr>\n",
       "    <tr>\n",
       "      <th>2</th>\n",
       "      <td>3.0</td>\n",
       "      <td>Charlie</td>\n",
       "      <td>35.00</td>\n",
       "      <td>Los Angeles</td>\n",
       "      <td>NaN</td>\n",
       "      <td>NaN</td>\n",
       "      <td>NaN</td>\n",
       "      <td>NaN</td>\n",
       "      <td>NaN</td>\n",
       "      <td>NaN</td>\n",
       "      <td>NaN</td>\n",
       "      <td>NaN</td>\n",
       "      <td>NaN</td>\n",
       "    </tr>\n",
       "    <tr>\n",
       "      <th>3</th>\n",
       "      <td>4.0</td>\n",
       "      <td>David</td>\n",
       "      <td>33.75</td>\n",
       "      <td>Chicago</td>\n",
       "      <td>NaN</td>\n",
       "      <td>NaN</td>\n",
       "      <td>NaN</td>\n",
       "      <td>NaN</td>\n",
       "      <td>NaN</td>\n",
       "      <td>NaN</td>\n",
       "      <td>NaN</td>\n",
       "      <td>NaN</td>\n",
       "      <td>NaN</td>\n",
       "    </tr>\n",
       "    <tr>\n",
       "      <th>4</th>\n",
       "      <td>5.0</td>\n",
       "      <td>Eve</td>\n",
       "      <td>45.00</td>\n",
       "      <td>Houston</td>\n",
       "      <td>NaN</td>\n",
       "      <td>NaN</td>\n",
       "      <td>NaN</td>\n",
       "      <td>NaN</td>\n",
       "      <td>NaN</td>\n",
       "      <td>NaN</td>\n",
       "      <td>NaN</td>\n",
       "      <td>NaN</td>\n",
       "      <td>NaN</td>\n",
       "    </tr>\n",
       "    <tr>\n",
       "      <th>0</th>\n",
       "      <td>1.0</td>\n",
       "      <td>NaN</td>\n",
       "      <td>NaN</td>\n",
       "      <td>NaN</td>\n",
       "      <td>101.0</td>\n",
       "      <td>250.50</td>\n",
       "      <td>2024-12-20</td>\n",
       "      <td>NaN</td>\n",
       "      <td>NaN</td>\n",
       "      <td>NaN</td>\n",
       "      <td>NaN</td>\n",
       "      <td>NaN</td>\n",
       "      <td>NaN</td>\n",
       "    </tr>\n",
       "    <tr>\n",
       "      <th>1</th>\n",
       "      <td>2.0</td>\n",
       "      <td>NaN</td>\n",
       "      <td>NaN</td>\n",
       "      <td>NaN</td>\n",
       "      <td>102.0</td>\n",
       "      <td>120.00</td>\n",
       "      <td>2024-12-21</td>\n",
       "      <td>NaN</td>\n",
       "      <td>NaN</td>\n",
       "      <td>NaN</td>\n",
       "      <td>NaN</td>\n",
       "      <td>NaN</td>\n",
       "      <td>NaN</td>\n",
       "    </tr>\n",
       "    <tr>\n",
       "      <th>2</th>\n",
       "      <td>3.0</td>\n",
       "      <td>NaN</td>\n",
       "      <td>NaN</td>\n",
       "      <td>NaN</td>\n",
       "      <td>103.0</td>\n",
       "      <td>320.00</td>\n",
       "      <td>2024-12-22</td>\n",
       "      <td>NaN</td>\n",
       "      <td>NaN</td>\n",
       "      <td>NaN</td>\n",
       "      <td>NaN</td>\n",
       "      <td>NaN</td>\n",
       "      <td>NaN</td>\n",
       "    </tr>\n",
       "    <tr>\n",
       "      <th>3</th>\n",
       "      <td>4.0</td>\n",
       "      <td>NaN</td>\n",
       "      <td>NaN</td>\n",
       "      <td>NaN</td>\n",
       "      <td>104.0</td>\n",
       "      <td>NaN</td>\n",
       "      <td>2024-12-23</td>\n",
       "      <td>NaN</td>\n",
       "      <td>NaN</td>\n",
       "      <td>NaN</td>\n",
       "      <td>NaN</td>\n",
       "      <td>NaN</td>\n",
       "      <td>NaN</td>\n",
       "    </tr>\n",
       "    <tr>\n",
       "      <th>4</th>\n",
       "      <td>NaN</td>\n",
       "      <td>NaN</td>\n",
       "      <td>NaN</td>\n",
       "      <td>NaN</td>\n",
       "      <td>105.0</td>\n",
       "      <td>150.75</td>\n",
       "      <td>2024-12-24</td>\n",
       "      <td>NaN</td>\n",
       "      <td>NaN</td>\n",
       "      <td>NaN</td>\n",
       "      <td>NaN</td>\n",
       "      <td>NaN</td>\n",
       "      <td>NaN</td>\n",
       "    </tr>\n",
       "    <tr>\n",
       "      <th>0</th>\n",
       "      <td>1.0</td>\n",
       "      <td>NaN</td>\n",
       "      <td>NaN</td>\n",
       "      <td>NaN</td>\n",
       "      <td>NaN</td>\n",
       "      <td>NaN</td>\n",
       "      <td>NaN</td>\n",
       "      <td>301.0</td>\n",
       "      <td>201.0</td>\n",
       "      <td>5.0</td>\n",
       "      <td>NaN</td>\n",
       "      <td>NaN</td>\n",
       "      <td>NaN</td>\n",
       "    </tr>\n",
       "    <tr>\n",
       "      <th>1</th>\n",
       "      <td>3.0</td>\n",
       "      <td>NaN</td>\n",
       "      <td>NaN</td>\n",
       "      <td>NaN</td>\n",
       "      <td>NaN</td>\n",
       "      <td>NaN</td>\n",
       "      <td>NaN</td>\n",
       "      <td>302.0</td>\n",
       "      <td>202.0</td>\n",
       "      <td>4.0</td>\n",
       "      <td>NaN</td>\n",
       "      <td>NaN</td>\n",
       "      <td>NaN</td>\n",
       "    </tr>\n",
       "    <tr>\n",
       "      <th>2</th>\n",
       "      <td>2.0</td>\n",
       "      <td>NaN</td>\n",
       "      <td>NaN</td>\n",
       "      <td>NaN</td>\n",
       "      <td>NaN</td>\n",
       "      <td>NaN</td>\n",
       "      <td>NaN</td>\n",
       "      <td>303.0</td>\n",
       "      <td>203.0</td>\n",
       "      <td>3.0</td>\n",
       "      <td>NaN</td>\n",
       "      <td>NaN</td>\n",
       "      <td>NaN</td>\n",
       "    </tr>\n",
       "    <tr>\n",
       "      <th>3</th>\n",
       "      <td>5.0</td>\n",
       "      <td>NaN</td>\n",
       "      <td>NaN</td>\n",
       "      <td>NaN</td>\n",
       "      <td>NaN</td>\n",
       "      <td>NaN</td>\n",
       "      <td>NaN</td>\n",
       "      <td>304.0</td>\n",
       "      <td>204.0</td>\n",
       "      <td>NaN</td>\n",
       "      <td>NaN</td>\n",
       "      <td>NaN</td>\n",
       "      <td>NaN</td>\n",
       "    </tr>\n",
       "    <tr>\n",
       "      <th>4</th>\n",
       "      <td>4.0</td>\n",
       "      <td>NaN</td>\n",
       "      <td>NaN</td>\n",
       "      <td>NaN</td>\n",
       "      <td>NaN</td>\n",
       "      <td>NaN</td>\n",
       "      <td>NaN</td>\n",
       "      <td>305.0</td>\n",
       "      <td>NaN</td>\n",
       "      <td>5.0</td>\n",
       "      <td>NaN</td>\n",
       "      <td>NaN</td>\n",
       "      <td>NaN</td>\n",
       "    </tr>\n",
       "    <tr>\n",
       "      <th>0</th>\n",
       "      <td>NaN</td>\n",
       "      <td>NaN</td>\n",
       "      <td>NaN</td>\n",
       "      <td>NaN</td>\n",
       "      <td>NaN</td>\n",
       "      <td>NaN</td>\n",
       "      <td>NaN</td>\n",
       "      <td>NaN</td>\n",
       "      <td>201.0</td>\n",
       "      <td>NaN</td>\n",
       "      <td>Laptop</td>\n",
       "      <td>Electronics</td>\n",
       "      <td>1200.0</td>\n",
       "    </tr>\n",
       "    <tr>\n",
       "      <th>1</th>\n",
       "      <td>NaN</td>\n",
       "      <td>NaN</td>\n",
       "      <td>NaN</td>\n",
       "      <td>NaN</td>\n",
       "      <td>NaN</td>\n",
       "      <td>NaN</td>\n",
       "      <td>NaN</td>\n",
       "      <td>NaN</td>\n",
       "      <td>202.0</td>\n",
       "      <td>NaN</td>\n",
       "      <td>Smartphone</td>\n",
       "      <td>Electronics</td>\n",
       "      <td>800.0</td>\n",
       "    </tr>\n",
       "    <tr>\n",
       "      <th>2</th>\n",
       "      <td>NaN</td>\n",
       "      <td>NaN</td>\n",
       "      <td>NaN</td>\n",
       "      <td>NaN</td>\n",
       "      <td>NaN</td>\n",
       "      <td>NaN</td>\n",
       "      <td>NaN</td>\n",
       "      <td>NaN</td>\n",
       "      <td>203.0</td>\n",
       "      <td>NaN</td>\n",
       "      <td>Tablet</td>\n",
       "      <td>Electronics</td>\n",
       "      <td>400.0</td>\n",
       "    </tr>\n",
       "    <tr>\n",
       "      <th>3</th>\n",
       "      <td>NaN</td>\n",
       "      <td>NaN</td>\n",
       "      <td>NaN</td>\n",
       "      <td>NaN</td>\n",
       "      <td>NaN</td>\n",
       "      <td>NaN</td>\n",
       "      <td>NaN</td>\n",
       "      <td>NaN</td>\n",
       "      <td>204.0</td>\n",
       "      <td>NaN</td>\n",
       "      <td>Monitor</td>\n",
       "      <td>Accessories</td>\n",
       "      <td>200.0</td>\n",
       "    </tr>\n",
       "    <tr>\n",
       "      <th>4</th>\n",
       "      <td>NaN</td>\n",
       "      <td>NaN</td>\n",
       "      <td>NaN</td>\n",
       "      <td>NaN</td>\n",
       "      <td>NaN</td>\n",
       "      <td>NaN</td>\n",
       "      <td>NaN</td>\n",
       "      <td>NaN</td>\n",
       "      <td>205.0</td>\n",
       "      <td>NaN</td>\n",
       "      <td>Keyboard</td>\n",
       "      <td>Accessories</td>\n",
       "      <td>NaN</td>\n",
       "    </tr>\n",
       "  </tbody>\n",
       "</table>\n",
       "</div>"
      ],
      "text/plain": [
       "   CustomerID     Name    Age         City  OrderID  Amount   OrderDate  \\\n",
       "0         1.0    Alice  25.00     New York      NaN     NaN         NaN   \n",
       "1         2.0      Bob  30.00  Los Angeles      NaN     NaN         NaN   \n",
       "2         3.0  Charlie  35.00  Los Angeles      NaN     NaN         NaN   \n",
       "3         4.0    David  33.75      Chicago      NaN     NaN         NaN   \n",
       "4         5.0      Eve  45.00      Houston      NaN     NaN         NaN   \n",
       "0         1.0      NaN    NaN          NaN    101.0  250.50  2024-12-20   \n",
       "1         2.0      NaN    NaN          NaN    102.0  120.00  2024-12-21   \n",
       "2         3.0      NaN    NaN          NaN    103.0  320.00  2024-12-22   \n",
       "3         4.0      NaN    NaN          NaN    104.0     NaN  2024-12-23   \n",
       "4         NaN      NaN    NaN          NaN    105.0  150.75  2024-12-24   \n",
       "0         1.0      NaN    NaN          NaN      NaN     NaN         NaN   \n",
       "1         3.0      NaN    NaN          NaN      NaN     NaN         NaN   \n",
       "2         2.0      NaN    NaN          NaN      NaN     NaN         NaN   \n",
       "3         5.0      NaN    NaN          NaN      NaN     NaN         NaN   \n",
       "4         4.0      NaN    NaN          NaN      NaN     NaN         NaN   \n",
       "0         NaN      NaN    NaN          NaN      NaN     NaN         NaN   \n",
       "1         NaN      NaN    NaN          NaN      NaN     NaN         NaN   \n",
       "2         NaN      NaN    NaN          NaN      NaN     NaN         NaN   \n",
       "3         NaN      NaN    NaN          NaN      NaN     NaN         NaN   \n",
       "4         NaN      NaN    NaN          NaN      NaN     NaN         NaN   \n",
       "\n",
       "   ReviewID  ProductID  Rating ProductName     Category   Price  \n",
       "0       NaN        NaN     NaN         NaN          NaN     NaN  \n",
       "1       NaN        NaN     NaN         NaN          NaN     NaN  \n",
       "2       NaN        NaN     NaN         NaN          NaN     NaN  \n",
       "3       NaN        NaN     NaN         NaN          NaN     NaN  \n",
       "4       NaN        NaN     NaN         NaN          NaN     NaN  \n",
       "0       NaN        NaN     NaN         NaN          NaN     NaN  \n",
       "1       NaN        NaN     NaN         NaN          NaN     NaN  \n",
       "2       NaN        NaN     NaN         NaN          NaN     NaN  \n",
       "3       NaN        NaN     NaN         NaN          NaN     NaN  \n",
       "4       NaN        NaN     NaN         NaN          NaN     NaN  \n",
       "0     301.0      201.0     5.0         NaN          NaN     NaN  \n",
       "1     302.0      202.0     4.0         NaN          NaN     NaN  \n",
       "2     303.0      203.0     3.0         NaN          NaN     NaN  \n",
       "3     304.0      204.0     NaN         NaN          NaN     NaN  \n",
       "4     305.0        NaN     5.0         NaN          NaN     NaN  \n",
       "0       NaN      201.0     NaN      Laptop  Electronics  1200.0  \n",
       "1       NaN      202.0     NaN  Smartphone  Electronics   800.0  \n",
       "2       NaN      203.0     NaN      Tablet  Electronics   400.0  \n",
       "3       NaN      204.0     NaN     Monitor  Accessories   200.0  \n",
       "4       NaN      205.0     NaN    Keyboard  Accessories     NaN  "
      ]
     },
     "execution_count": 235,
     "metadata": {},
     "output_type": "execute_result"
    }
   ],
   "source": [
    "new_df = pd.concat([df,df1,df2,df3])\n",
    "new_df"
   ]
  },
  {
   "cell_type": "code",
   "execution_count": 237,
   "id": "d2831934-8f9f-47d4-8dd9-cca28ef9bd82",
   "metadata": {},
   "outputs": [
    {
     "data": {
      "text/html": [
       "<div>\n",
       "<style scoped>\n",
       "    .dataframe tbody tr th:only-of-type {\n",
       "        vertical-align: middle;\n",
       "    }\n",
       "\n",
       "    .dataframe tbody tr th {\n",
       "        vertical-align: top;\n",
       "    }\n",
       "\n",
       "    .dataframe thead th {\n",
       "        text-align: right;\n",
       "    }\n",
       "</style>\n",
       "<table border=\"1\" class=\"dataframe\">\n",
       "  <thead>\n",
       "    <tr style=\"text-align: right;\">\n",
       "      <th></th>\n",
       "      <th>CustomerID</th>\n",
       "      <th>Name</th>\n",
       "      <th>Age</th>\n",
       "      <th>City</th>\n",
       "      <th>OrderID</th>\n",
       "      <th>CustomerID</th>\n",
       "      <th>Amount</th>\n",
       "      <th>OrderDate</th>\n",
       "      <th>ReviewID</th>\n",
       "      <th>ProductID</th>\n",
       "      <th>CustomerID</th>\n",
       "      <th>Rating</th>\n",
       "      <th>ProductID</th>\n",
       "      <th>ProductName</th>\n",
       "      <th>Category</th>\n",
       "      <th>Price</th>\n",
       "    </tr>\n",
       "  </thead>\n",
       "  <tbody>\n",
       "    <tr>\n",
       "      <th>0</th>\n",
       "      <td>1</td>\n",
       "      <td>Alice</td>\n",
       "      <td>25.00</td>\n",
       "      <td>New York</td>\n",
       "      <td>101</td>\n",
       "      <td>1.0</td>\n",
       "      <td>250.50</td>\n",
       "      <td>2024-12-20</td>\n",
       "      <td>301</td>\n",
       "      <td>201.0</td>\n",
       "      <td>1</td>\n",
       "      <td>5.0</td>\n",
       "      <td>201</td>\n",
       "      <td>Laptop</td>\n",
       "      <td>Electronics</td>\n",
       "      <td>1200.0</td>\n",
       "    </tr>\n",
       "    <tr>\n",
       "      <th>1</th>\n",
       "      <td>2</td>\n",
       "      <td>Bob</td>\n",
       "      <td>30.00</td>\n",
       "      <td>Los Angeles</td>\n",
       "      <td>102</td>\n",
       "      <td>2.0</td>\n",
       "      <td>120.00</td>\n",
       "      <td>2024-12-21</td>\n",
       "      <td>302</td>\n",
       "      <td>202.0</td>\n",
       "      <td>3</td>\n",
       "      <td>4.0</td>\n",
       "      <td>202</td>\n",
       "      <td>Smartphone</td>\n",
       "      <td>Electronics</td>\n",
       "      <td>800.0</td>\n",
       "    </tr>\n",
       "    <tr>\n",
       "      <th>2</th>\n",
       "      <td>3</td>\n",
       "      <td>Charlie</td>\n",
       "      <td>35.00</td>\n",
       "      <td>Los Angeles</td>\n",
       "      <td>103</td>\n",
       "      <td>3.0</td>\n",
       "      <td>320.00</td>\n",
       "      <td>2024-12-22</td>\n",
       "      <td>303</td>\n",
       "      <td>203.0</td>\n",
       "      <td>2</td>\n",
       "      <td>3.0</td>\n",
       "      <td>203</td>\n",
       "      <td>Tablet</td>\n",
       "      <td>Electronics</td>\n",
       "      <td>400.0</td>\n",
       "    </tr>\n",
       "    <tr>\n",
       "      <th>3</th>\n",
       "      <td>4</td>\n",
       "      <td>David</td>\n",
       "      <td>33.75</td>\n",
       "      <td>Chicago</td>\n",
       "      <td>104</td>\n",
       "      <td>4.0</td>\n",
       "      <td>NaN</td>\n",
       "      <td>2024-12-23</td>\n",
       "      <td>304</td>\n",
       "      <td>204.0</td>\n",
       "      <td>5</td>\n",
       "      <td>NaN</td>\n",
       "      <td>204</td>\n",
       "      <td>Monitor</td>\n",
       "      <td>Accessories</td>\n",
       "      <td>200.0</td>\n",
       "    </tr>\n",
       "    <tr>\n",
       "      <th>4</th>\n",
       "      <td>5</td>\n",
       "      <td>Eve</td>\n",
       "      <td>45.00</td>\n",
       "      <td>Houston</td>\n",
       "      <td>105</td>\n",
       "      <td>NaN</td>\n",
       "      <td>150.75</td>\n",
       "      <td>2024-12-24</td>\n",
       "      <td>305</td>\n",
       "      <td>NaN</td>\n",
       "      <td>4</td>\n",
       "      <td>5.0</td>\n",
       "      <td>205</td>\n",
       "      <td>Keyboard</td>\n",
       "      <td>Accessories</td>\n",
       "      <td>NaN</td>\n",
       "    </tr>\n",
       "  </tbody>\n",
       "</table>\n",
       "</div>"
      ],
      "text/plain": [
       "   CustomerID     Name    Age         City  OrderID  CustomerID  Amount  \\\n",
       "0           1    Alice  25.00     New York      101         1.0  250.50   \n",
       "1           2      Bob  30.00  Los Angeles      102         2.0  120.00   \n",
       "2           3  Charlie  35.00  Los Angeles      103         3.0  320.00   \n",
       "3           4    David  33.75      Chicago      104         4.0     NaN   \n",
       "4           5      Eve  45.00      Houston      105         NaN  150.75   \n",
       "\n",
       "    OrderDate  ReviewID  ProductID  CustomerID  Rating  ProductID ProductName  \\\n",
       "0  2024-12-20       301      201.0           1     5.0        201      Laptop   \n",
       "1  2024-12-21       302      202.0           3     4.0        202  Smartphone   \n",
       "2  2024-12-22       303      203.0           2     3.0        203      Tablet   \n",
       "3  2024-12-23       304      204.0           5     NaN        204     Monitor   \n",
       "4  2024-12-24       305        NaN           4     5.0        205    Keyboard   \n",
       "\n",
       "      Category   Price  \n",
       "0  Electronics  1200.0  \n",
       "1  Electronics   800.0  \n",
       "2  Electronics   400.0  \n",
       "3  Accessories   200.0  \n",
       "4  Accessories     NaN  "
      ]
     },
     "execution_count": 237,
     "metadata": {},
     "output_type": "execute_result"
    }
   ],
   "source": [
    "new_df = pd.concat([df,df1,df2,df3],axis=1)\n",
    "new_df"
   ]
  },
  {
   "cell_type": "code",
   "execution_count": 255,
   "id": "8d3741f2-a018-46cb-ae67-92afa303ab38",
   "metadata": {},
   "outputs": [
    {
     "name": "stdout",
     "output_type": "stream",
     "text": [
      "   ReviewID  ProductID  CustomerID  Rating\n",
      "0       301      201.0           1     5.0\n",
      "1       302      202.0           3     4.0\n",
      "2       303      203.0           2     3.0\n",
      "3       304      204.0           5     NaN\n",
      "4       305        NaN           4     5.0\n",
      "   ReviewID  ProductID  CustomerID  Rating\n",
      "0       301      201.0           1     5.0\n",
      "1       302      202.0           3     4.0\n",
      "2       303      203.0           2     3.0\n",
      "3       304      204.0           5     5.0\n",
      "4       305        NaN           4     5.0\n"
     ]
    }
   ],
   "source": [
    "import numpy as np\n",
    "print(df2)\n",
    "df2['Rating'] = np.where(np.isnan(df2['Rating']), df2['Rating'].mode(), df2['Rating'])\n",
    "print(df2)\n"
   ]
  },
  {
   "cell_type": "code",
   "execution_count": 265,
   "id": "d04bff5d-c9ef-4d38-a22e-a3dd08829f23",
   "metadata": {},
   "outputs": [
    {
     "name": "stdout",
     "output_type": "stream",
     "text": [
      "   ProductID ProductName     Category   Price\n",
      "0        201      Laptop  Electronics  1200.0\n",
      "1        202  Smartphone  Electronics   800.0\n",
      "2        203      Tablet  Electronics   400.0\n",
      "3        204     Monitor  Accessories   200.0\n",
      "4        205    Keyboard  Accessories     NaN\n",
      "   ProductID ProductName     Category   Price\n",
      "0        201      Laptop  Electronics  1200.0\n",
      "1        202  Smartphone  Electronics   800.0\n",
      "2        203      Tablet  Electronics   400.0\n",
      "3        204     Monitor  Accessories   200.0\n",
      "4        205    Keyboard  Accessories   650.0\n"
     ]
    }
   ],
   "source": [
    "print(df3)\n",
    "df3['Price'] = np.where(np.isnan(df3['Price']), df3['Price'].mean(), df3['Price'])\n",
    "print(df3)\n"
   ]
  },
  {
   "cell_type": "code",
   "execution_count": 269,
   "id": "b49e3acf-9da2-44bb-a1cd-0722a3150c8b",
   "metadata": {},
   "outputs": [
    {
     "name": "stdout",
     "output_type": "stream",
     "text": [
      "   OrderID  CustomerID    Amount   OrderDate\n",
      "0      101         1.0  250.5000  2024-12-20\n",
      "1      102         2.0  120.0000  2024-12-21\n",
      "2      103         3.0  320.0000  2024-12-22\n",
      "3      104         4.0  210.3125  2024-12-23\n",
      "4      105         NaN  150.7500  2024-12-24\n",
      "   OrderID  CustomerID    Amount   OrderDate\n",
      "0      101         1.0  250.5000  2024-12-20\n",
      "1      102         2.0  120.0000  2024-12-21\n",
      "2      103         3.0  320.0000  2024-12-22\n",
      "3      104         4.0  210.3125  2024-12-23\n",
      "4      105         4.0  150.7500  2024-12-24\n"
     ]
    },
    {
     "name": "stderr",
     "output_type": "stream",
     "text": [
      "C:\\Users\\kommi\\AppData\\Local\\Temp\\ipykernel_25672\\4290668981.py:2: FutureWarning: DataFrame.fillna with 'method' is deprecated and will raise in a future version. Use obj.ffill() or obj.bfill() instead.\n",
      "  df1= df1.fillna(method=\"ffill\")\n"
     ]
    }
   ],
   "source": [
    "print(df1)\n",
    "df1= df1.fillna(method=\"ffill\")\n",
    "print(df1)"
   ]
  },
  {
   "cell_type": "code",
   "execution_count": 271,
   "id": "a1a17b35-e162-444b-9952-aeefea31bd72",
   "metadata": {},
   "outputs": [
    {
     "name": "stdout",
     "output_type": "stream",
     "text": [
      "   ReviewID  ProductID  CustomerID  Rating\n",
      "0       301      201.0           1     5.0\n",
      "1       302      202.0           3     4.0\n",
      "2       303      203.0           2     3.0\n",
      "3       304      204.0           5     5.0\n",
      "4       305        NaN           4     5.0\n",
      "   ReviewID  ProductID  CustomerID  Rating\n",
      "0       301      201.0           1     5.0\n",
      "1       302      202.0           3     4.0\n",
      "2       303      203.0           2     3.0\n",
      "3       304      204.0           5     5.0\n",
      "4       305      204.0           4     5.0\n"
     ]
    },
    {
     "name": "stderr",
     "output_type": "stream",
     "text": [
      "C:\\Users\\kommi\\AppData\\Local\\Temp\\ipykernel_25672\\3084141899.py:2: FutureWarning: DataFrame.fillna with 'method' is deprecated and will raise in a future version. Use obj.ffill() or obj.bfill() instead.\n",
      "  df2= df2.fillna(method=\"ffill\")\n"
     ]
    }
   ],
   "source": [
    "print(df2)\n",
    "df2= df2.fillna(method=\"ffill\")\n",
    "print(df2)"
   ]
  },
  {
   "cell_type": "code",
   "execution_count": 273,
   "id": "78552c0f-25bc-4b14-a3de-25f53f8e335e",
   "metadata": {},
   "outputs": [
    {
     "name": "stdout",
     "output_type": "stream",
     "text": [
      "   CustomerID     Name    Age         City\n",
      "0           1    Alice  25.00     New York\n",
      "1           2      Bob  30.00  Los Angeles\n",
      "2           3  Charlie  35.00  Los Angeles\n",
      "3           4    David  33.75      Chicago\n",
      "4           5      Eve  45.00      Houston\n",
      "   OrderID  CustomerID    Amount   OrderDate\n",
      "0      101         1.0  250.5000  2024-12-20\n",
      "1      102         2.0  120.0000  2024-12-21\n",
      "2      103         3.0  320.0000  2024-12-22\n",
      "3      104         4.0  210.3125  2024-12-23\n",
      "4      105         4.0  150.7500  2024-12-24\n",
      "   ReviewID  ProductID  CustomerID  Rating\n",
      "0       301      201.0           1     5.0\n",
      "1       302      202.0           3     4.0\n",
      "2       303      203.0           2     3.0\n",
      "3       304      204.0           5     5.0\n",
      "4       305      204.0           4     5.0\n",
      "   ProductID ProductName     Category   Price\n",
      "0        201      Laptop  Electronics  1200.0\n",
      "1        202  Smartphone  Electronics   800.0\n",
      "2        203      Tablet  Electronics   400.0\n",
      "3        204     Monitor  Accessories   200.0\n",
      "4        205    Keyboard  Accessories   650.0\n"
     ]
    }
   ],
   "source": [
    "print(df)\n",
    "print(df1)\n",
    "print(df2)\n",
    "print(df3)"
   ]
  }
 ],
 "metadata": {
  "kernelspec": {
   "display_name": "Python 3 (ipykernel)",
   "language": "python",
   "name": "python3"
  },
  "language_info": {
   "codemirror_mode": {
    "name": "ipython",
    "version": 3
   },
   "file_extension": ".py",
   "mimetype": "text/x-python",
   "name": "python",
   "nbconvert_exporter": "python",
   "pygments_lexer": "ipython3",
   "version": "3.12.7"
  }
 },
 "nbformat": 4,
 "nbformat_minor": 5
}
